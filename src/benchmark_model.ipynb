{
 "cells": [
  {
   "cell_type": "code",
   "execution_count": 1,
   "metadata": {
    "collapsed": true
   },
   "outputs": [],
   "source": [
    "import numpy as pd\n",
    "from PIL import ImageFile\n",
    "ImageFile.LOAD_TRUNCATED_IMAGES = True\n",
    "\n",
    "# Dimensions of our images\n",
    "img_width, img_height = 224, 224\n",
    "\n",
    "train_dir = 'data/train'\n",
    "valid_dir = 'data/valid'"
   ]
  },
  {
   "cell_type": "markdown",
   "metadata": {},
   "source": [
    "## Data preprocessing"
   ]
  },
  {
   "cell_type": "code",
   "execution_count": 2,
   "metadata": {},
   "outputs": [
    {
     "name": "stderr",
     "output_type": "stream",
     "text": [
      "Using TensorFlow backend.\n"
     ]
    },
    {
     "name": "stdout",
     "output_type": "stream",
     "text": [
      "Found 1483 images belonging to 149 classes.\n",
      "Found 395 images belonging to 149 classes.\n"
     ]
    }
   ],
   "source": [
    "from keras.preprocessing.image import ImageDataGenerator\n",
    "\n",
    "# Pixel values rescaling from [0, 255] to [0, 1] interval\n",
    "datagen = ImageDataGenerator(rescale=1. / 255)\n",
    "batch_size = 16\n",
    "\n",
    "# Retrieve images and their classes for train and validation sets\n",
    "train_gen = datagen.flow_from_directory(\n",
    "        train_dir,\n",
    "        target_size=(img_width, img_height),\n",
    "        batch_size=batch_size)\n",
    "\n",
    "valid_gen = datagen.flow_from_directory(\n",
    "        valid_dir,\n",
    "        target_size=(img_width, img_height),\n",
    "        batch_size=batch_size)"
   ]
  },
  {
   "cell_type": "markdown",
   "metadata": {},
   "source": [
    "## Define model architecture"
   ]
  },
  {
   "cell_type": "code",
   "execution_count": 3,
   "metadata": {
    "collapsed": true
   },
   "outputs": [],
   "source": [
    "from keras.layers import Activation, Dropout, Flatten, Dense\n",
    "from keras.layers import Convolution2D, MaxPooling2D, ZeroPadding2D\n",
    "from keras.models import Sequential\n",
    "\n",
    "nb_classes = 149\n",
    "\n",
    "model = Sequential()\n",
    "model.add(Convolution2D(32, (3, 3), input_shape=(img_width, img_height, 3)))\n",
    "model.add(Activation('relu'))\n",
    "model.add(MaxPooling2D(pool_size=(2, 2)))\n",
    "\n",
    "model.add(Convolution2D(32, (3, 3)))\n",
    "model.add(Activation('relu'))\n",
    "model.add(MaxPooling2D(pool_size=(2, 2)))\n",
    "\n",
    "model.add(Convolution2D(64, (3, 3)))\n",
    "model.add(Activation('relu'))\n",
    "model.add(MaxPooling2D(pool_size=(2, 2)))\n",
    "\n",
    "model.add(Flatten())\n",
    "model.add(Dense(512))\n",
    "model.add(Activation('relu'))\n",
    "model.add(Dropout(0.5))\n",
    "model.add(Dense(nb_classes))\n",
    "model.add(Activation('softmax'))\n",
    "\n",
    "model.compile(loss='categorical_crossentropy', optimizer='rmsprop', metrics=['accuracy'])"
   ]
  },
  {
   "cell_type": "markdown",
   "metadata": {},
   "source": [
    "## Train the model"
   ]
  },
  {
   "cell_type": "code",
   "execution_count": 5,
   "metadata": {},
   "outputs": [
    {
     "name": "stdout",
     "output_type": "stream",
     "text": [
      "Epoch 1/100\n",
      "91/92 [============================>.] - ETA: 0s - loss: 5.0239 - acc: 0.0158Epoch 00000: val_acc improved from -inf to 0.01823, saving model to simple_best_weights_cnn.h5\n",
      "92/92 [==============================] - 62s - loss: 5.0225 - acc: 0.0156 - val_loss: 4.9497 - val_acc: 0.0182\n",
      "Epoch 2/100\n",
      "91/92 [============================>.] - ETA: 0s - loss: 4.6543 - acc: 0.0697Epoch 00001: val_acc improved from 0.01823 to 0.06510, saving model to simple_best_weights_cnn.h5\n",
      "92/92 [==============================] - 60s - loss: 4.6434 - acc: 0.0716 - val_loss: 4.7330 - val_acc: 0.0651\n",
      "Epoch 3/100\n",
      "91/92 [============================>.] - ETA: 0s - loss: 3.0789 - acc: 0.3365Epoch 00002: val_acc improved from 0.06510 to 0.13542, saving model to simple_best_weights_cnn.h5\n",
      "92/92 [==============================] - 60s - loss: 3.0633 - acc: 0.3396 - val_loss: 4.7670 - val_acc: 0.1354\n",
      "Epoch 4/100\n",
      "91/92 [============================>.] - ETA: 0s - loss: 1.3453 - acc: 0.6891Epoch 00003: val_acc did not improve\n",
      "92/92 [==============================] - 59s - loss: 1.3443 - acc: 0.6891 - val_loss: 6.4473 - val_acc: 0.1198\n",
      "Epoch 5/100\n",
      "91/92 [============================>.] - ETA: 0s - loss: 0.5312 - acc: 0.8709Epoch 00004: val_acc improved from 0.13542 to 0.16146, saving model to simple_best_weights_cnn.h5\n",
      "92/92 [==============================] - 61s - loss: 0.5398 - acc: 0.8703 - val_loss: 6.0785 - val_acc: 0.1615\n",
      "Epoch 6/100\n",
      "91/92 [============================>.] - ETA: 0s - loss: 0.3083 - acc: 0.9386Epoch 00005: val_acc improved from 0.16146 to 0.20573, saving model to simple_best_weights_cnn.h5\n",
      "92/92 [==============================] - 63s - loss: 0.3056 - acc: 0.9393 - val_loss: 6.9241 - val_acc: 0.2057\n",
      "Epoch 7/100\n",
      "91/92 [============================>.] - ETA: 0s - loss: 0.2397 - acc: 0.9523Epoch 00006: val_acc did not improve\n",
      "92/92 [==============================] - 61s - loss: 0.2371 - acc: 0.9528 - val_loss: 6.0903 - val_acc: 0.1797\n",
      "Epoch 8/100\n",
      "91/92 [============================>.] - ETA: 0s - loss: 0.1572 - acc: 0.9654Epoch 00007: val_acc did not improve\n",
      "92/92 [==============================] - 61s - loss: 0.1568 - acc: 0.9651 - val_loss: 7.1606 - val_acc: 0.1953\n",
      "Epoch 9/100\n",
      "91/92 [============================>.] - ETA: 0s - loss: 0.1734 - acc: 0.9712Epoch 00008: val_acc did not improve\n",
      "92/92 [==============================] - 61s - loss: 0.1715 - acc: 0.9715 - val_loss: 6.7380 - val_acc: 0.1797\n",
      "Epoch 10/100\n",
      "91/92 [============================>.] - ETA: 0s - loss: 0.1212 - acc: 0.9718Epoch 00009: val_acc improved from 0.20573 to 0.21094, saving model to simple_best_weights_cnn.h5\n",
      "92/92 [==============================] - 61s - loss: 0.1212 - acc: 0.9715 - val_loss: 7.8684 - val_acc: 0.2109\n",
      "Epoch 11/100\n",
      "91/92 [============================>.] - ETA: 0s - loss: 0.1000 - acc: 0.9818Epoch 00010: val_acc did not improve\n",
      "92/92 [==============================] - 61s - loss: 0.0989 - acc: 0.9820 - val_loss: 8.1386 - val_acc: 0.1615\n",
      "Epoch 12/100\n",
      "91/92 [============================>.] - ETA: 0s - loss: 0.1872 - acc: 0.9787Epoch 00011: val_acc did not improve\n",
      "92/92 [==============================] - 61s - loss: 0.1852 - acc: 0.9789 - val_loss: 8.0771 - val_acc: 0.1875\n",
      "Epoch 13/100\n",
      "91/92 [============================>.] - ETA: 0s - loss: 0.0908 - acc: 0.9801Epoch 00012: val_acc did not improve\n",
      "92/92 [==============================] - 61s - loss: 0.0924 - acc: 0.9796 - val_loss: 8.2332 - val_acc: 0.1875\n",
      "Epoch 14/100\n",
      "91/92 [============================>.] - ETA: 0s - loss: 0.0948 - acc: 0.9798Epoch 00013: val_acc did not improve\n",
      "92/92 [==============================] - 61s - loss: 0.0938 - acc: 0.9800 - val_loss: 7.8198 - val_acc: 0.1953\n",
      "Epoch 15/100\n",
      "91/92 [============================>.] - ETA: 0s - loss: 0.0870 - acc: 0.9787Epoch 00014: val_acc did not improve\n",
      "92/92 [==============================] - 61s - loss: 0.0864 - acc: 0.9789 - val_loss: 7.9893 - val_acc: 0.1979\n",
      "Epoch 16/100\n",
      "91/92 [============================>.] - ETA: 0s - loss: 0.0768 - acc: 0.9863Epoch 00015: val_acc did not improve\n",
      "92/92 [==============================] - 61s - loss: 0.0760 - acc: 0.9864 - val_loss: 8.2857 - val_acc: 0.1901\n",
      "Epoch 00015: early stopping\n"
     ]
    }
   ],
   "source": [
    "from keras.callbacks import EarlyStopping, ModelCheckpoint\n",
    "\n",
    "epochs = 100\n",
    "nb_train_samples = 1483\n",
    "nb_valid_samples = 395\n",
    "\n",
    "# Model saving callback\n",
    "checkpointer = ModelCheckpoint(filepath='simple_best_weights_cnn.h5', monitor='val_acc', verbose=1, save_best_only=True)\n",
    "\n",
    "# Early stopping\n",
    "early_stopping = EarlyStopping(monitor='val_acc', verbose=1, patience=5)\n",
    "\n",
    "history = model.fit_generator(\n",
    "        train_gen,\n",
    "        steps_per_epoch=nb_train_samples // batch_size,\n",
    "        epochs=epochs,\n",
    "        callbacks=[checkpointer, early_stopping],\n",
    "        validation_data=valid_gen,\n",
    "        validation_steps=nb_valid_samples // batch_size,)"
   ]
  },
  {
   "cell_type": "markdown",
   "metadata": {},
   "source": [
    "## Plot the result"
   ]
  },
  {
   "cell_type": "code",
   "execution_count": 6,
   "metadata": {},
   "outputs": [
    {
     "data": {
      "image/png": "[encoded data removed]",
      "text/plain": [
       "<matplotlib.figure.Figure at 0x229cf75ab70>"
      ]
     },
     "metadata": {},
     "output_type": "display_data"
    }
   ],
   "source": [
    "import matplotlib.pyplot as plt\n",
    "%matplotlib inline\n",
    "\n",
    "fig, ax = plt.subplots()\n",
    "plt.plot(history.history['acc'])\n",
    "plt.plot(history.history['val_acc'])\n",
    "plt.title('Model accuracy')\n",
    "plt.ylabel('Accuracy')\n",
    "plt.xlabel('Epoch')\n",
    "plt.legend(['Train', 'Test'], loc='upper left')\n",
    "plt.show()"
   ]
  },
  {
   "cell_type": "markdown",
   "metadata": {},
   "source": [
    "The model seem to be overfitting, this could cause by the lack of dataset. In other words, only 10 images of each class use for training.\n",
    "\n",
    "## Data augmentation"
   ]
  },
  {
   "cell_type": "code",
   "execution_count": 7,
   "metadata": {},
   "outputs": [
    {
     "name": "stdout",
     "output_type": "stream",
     "text": [
      "Found 1484 images belonging to 149 classes.\n"
     ]
    }
   ],
   "source": [
    "augmented_datagen = ImageDataGenerator(\n",
    "        rescale=1. / 255,      # Normalize pixel values to [0,1]\n",
    "        shear_range=0.2,       # Randomly applies shearing transformation\n",
    "        zoom_range=0.2,        # Randomly applies shearing transformation\n",
    "        horizontal_flip=True)  # Randomly flip the images\n",
    "\n",
    "# Retrieve images and their classes for train and validation sets\n",
    "train_gen = augmented_datagen.flow_from_directory(\n",
    "        train_dir,\n",
    "        target_size=(img_width, img_height),\n",
    "        batch_size=batch_size)\n"
   ]
  },
  {
   "cell_type": "code",
   "execution_count": 9,
   "metadata": {},
   "outputs": [
    {
     "name": "stdout",
     "output_type": "stream",
     "text": [
      "Epoch 1/100\n",
      "91/92 [============================>.] - ETA: 0s - loss: 3.7839 - acc: 0.2509Epoch 00000: val_acc improved from -inf to 0.24479, saving model to augmented_simple_cnn_best_weight.h5\n",
      "92/92 [==============================] - 65s - loss: 3.7781 - acc: 0.2509 - val_loss: 3.7852 - val_acc: 0.2448\n",
      "Epoch 2/100\n",
      "91/92 [============================>.] - ETA: 0s - loss: 3.1652 - acc: 0.3523Epoch 00001: val_acc improved from 0.24479 to 0.27083, saving model to augmented_simple_cnn_best_weight.h5\n",
      "92/92 [==============================] - 60s - loss: 3.1607 - acc: 0.3526 - val_loss: 3.5314 - val_acc: 0.2708\n",
      "Epoch 3/100\n",
      "91/92 [============================>.] - ETA: 0s - loss: 2.7062 - acc: 0.4171Epoch 00002: val_acc improved from 0.27083 to 0.30729, saving model to augmented_simple_cnn_best_weight.h5\n",
      "92/92 [==============================] - 65s - loss: 2.7032 - acc: 0.4180 - val_loss: 3.3049 - val_acc: 0.3073\n",
      "Epoch 4/100\n",
      "91/92 [============================>.] - ETA: 0s - loss: 2.3473 - acc: 0.4792Epoch 00003: val_acc improved from 0.30729 to 0.32292, saving model to augmented_simple_cnn_best_weight.h5\n",
      "92/92 [==============================] - 68s - loss: 2.3401 - acc: 0.4814 - val_loss: 3.1874 - val_acc: 0.3229\n",
      "Epoch 5/100\n",
      "91/92 [============================>.] - ETA: 0s - loss: 2.1373 - acc: 0.5092Epoch 00004: val_acc did not improve\n",
      "92/92 [==============================] - 68s - loss: 2.1335 - acc: 0.5077 - val_loss: 3.3221 - val_acc: 0.3203\n",
      "Epoch 6/100\n",
      "91/92 [============================>.] - ETA: 0s - loss: 1.8462 - acc: 0.5758Epoch 00005: val_acc improved from 0.32292 to 0.34375, saving model to augmented_simple_cnn_best_weight.h5\n",
      "92/92 [==============================] - 67s - loss: 1.8441 - acc: 0.5770 - val_loss: 3.0894 - val_acc: 0.3438\n",
      "Epoch 7/100\n",
      "91/92 [============================>.] - ETA: 0s - loss: 1.6846 - acc: 0.5948Epoch 00006: val_acc did not improve\n",
      "92/92 [==============================] - 68s - loss: 1.6818 - acc: 0.5965 - val_loss: 3.3931 - val_acc: 0.3229\n",
      "Epoch 8/100\n",
      "91/92 [============================>.] - ETA: 0s - loss: 1.3908 - acc: 0.6680Epoch 00007: val_acc improved from 0.34375 to 0.35156, saving model to augmented_simple_cnn_best_weight.h5\n",
      "92/92 [==============================] - 67s - loss: 1.3894 - acc: 0.6683 - val_loss: 3.1923 - val_acc: 0.3516\n",
      "Epoch 9/100\n",
      "91/92 [============================>.] - ETA: 0s - loss: 1.3636 - acc: 0.6783Epoch 00008: val_acc improved from 0.35156 to 0.36458, saving model to augmented_simple_cnn_best_weight.h5\n",
      "92/92 [==============================] - 66s - loss: 1.3609 - acc: 0.6798 - val_loss: 3.3192 - val_acc: 0.3646\n",
      "Epoch 10/100\n",
      "91/92 [============================>.] - ETA: 0s - loss: 1.2182 - acc: 0.7033Epoch 00009: val_acc improved from 0.36458 to 0.37500, saving model to augmented_simple_cnn_best_weight.h5\n",
      "92/92 [==============================] - 67s - loss: 1.2241 - acc: 0.7031 - val_loss: 3.0422 - val_acc: 0.3750\n",
      "Epoch 11/100\n",
      "91/92 [============================>.] - ETA: 0s - loss: 1.0893 - acc: 0.7397Epoch 00010: val_acc did not improve\n",
      "92/92 [==============================] - 66s - loss: 1.0904 - acc: 0.7391 - val_loss: 3.0186 - val_acc: 0.3750\n",
      "Epoch 12/100\n",
      "91/92 [============================>.] - ETA: 0s - loss: 1.0163 - acc: 0.7477Epoch 00011: val_acc improved from 0.37500 to 0.43229, saving model to augmented_simple_cnn_best_weight.h5\n",
      "92/92 [==============================] - 67s - loss: 1.0169 - acc: 0.7477 - val_loss: 2.9744 - val_acc: 0.4323\n",
      "Epoch 13/100\n",
      "91/92 [============================>.] - ETA: 0s - loss: 0.9094 - acc: 0.7578Epoch 00012: val_acc did not improve\n",
      "92/92 [==============================] - 66s - loss: 0.9053 - acc: 0.7591 - val_loss: 3.0176 - val_acc: 0.4297\n",
      "Epoch 14/100\n",
      "91/92 [============================>.] - ETA: 0s - loss: 0.8163 - acc: 0.7914Epoch 00013: val_acc did not improve\n",
      "92/92 [==============================] - 66s - loss: 0.8107 - acc: 0.7930 - val_loss: 3.8450 - val_acc: 0.3854\n",
      "Epoch 15/100\n",
      "91/92 [============================>.] - ETA: 0s - loss: 0.7728 - acc: 0.7999Epoch 00014: val_acc did not improve\n",
      "92/92 [==============================] - 66s - loss: 0.7735 - acc: 0.8007 - val_loss: 3.2393 - val_acc: 0.4141\n",
      "Epoch 16/100\n",
      "91/92 [============================>.] - ETA: 0s - loss: 0.6827 - acc: 0.8226Epoch 00015: val_acc did not improve\n",
      "92/92 [==============================] - 66s - loss: 0.6808 - acc: 0.8225 - val_loss: 3.1093 - val_acc: 0.4115\n",
      "Epoch 17/100\n",
      "91/92 [============================>.] - ETA: 0s - loss: 0.5849 - acc: 0.8468Epoch 00016: val_acc did not improve\n",
      "92/92 [==============================] - 66s - loss: 0.5865 - acc: 0.8465 - val_loss: 3.1636 - val_acc: 0.4089\n",
      "Epoch 18/100\n",
      "91/92 [============================>.] - ETA: 0s - loss: 0.5474 - acc: 0.8620Epoch 00017: val_acc did not improve\n",
      "92/92 [==============================] - 66s - loss: 0.5488 - acc: 0.8616 - val_loss: 3.2496 - val_acc: 0.4115\n",
      "Epoch 00017: early stopping\n"
     ]
    }
   ],
   "source": [
    "model.compile(loss='categorical_crossentropy', optimizer='rmsprop', metrics=['accuracy'])\n",
    "\n",
    "# Model saving callback\n",
    "checkpointer = ModelCheckpoint(filepath='augmented_simple_cnn_best_weight.h5', \n",
    "                               monitor='val_acc', verbose=1, save_best_only=True)\n",
    "\n",
    "history = model.fit_generator(\n",
    "        train_gen,\n",
    "        steps_per_epoch=nb_train_samples // batch_size,\n",
    "        epochs=epochs,\n",
    "        callbacks=[checkpointer, early_stopping],\n",
    "        validation_data=valid_gen,\n",
    "        validation_steps=nb_valid_samples // batch_size,)"
   ]
  },
  {
   "cell_type": "code",
   "execution_count": 10,
   "metadata": {},
   "outputs": [
    {
     "data": {
      "image/png": "[encoded data removed]",
      "text/plain": [
       "<matplotlib.figure.Figure at 0x229d4913cf8>"
      ]
     },
     "metadata": {},
     "output_type": "display_data"
    }
   ],
   "source": [
    "fig, ax = plt.subplots()\n",
    "plt.plot(history.history['acc'])\n",
    "plt.plot(history.history['val_acc'])\n",
    "plt.title('Model accuracy')\n",
    "plt.ylabel('Accuracy')\n",
    "plt.xlabel('Epoch')\n",
    "plt.legend(['Train', 'Test'], loc='upper left')\n",
    "plt.show()"
   ]
  },
  {
   "cell_type": "markdown",
   "metadata": {},
   "source": [
    "After apply data augmentation, the score now increase. Not bad.\n",
    "\n",
    "## Evaluate on test dataset"
   ]
  },
  {
   "cell_type": "code",
   "execution_count": 11,
   "metadata": {},
   "outputs": [
    {
     "name": "stdout",
     "output_type": "stream",
     "text": [
      "Found 149 images belonging to 149 classes.\n"
     ]
    }
   ],
   "source": [
    "test_gen = datagen.flow_from_directory(\n",
    "        'data/test',\n",
    "        target_size=(img_width, img_height),\n",
    "        batch_size=batch_size)\n"
   ]
  },
  {
   "cell_type": "markdown",
   "metadata": {},
   "source": [
    "### Evaluate loss and accuracy of the unaugmented model"
   ]
  },
  {
   "cell_type": "code",
   "execution_count": 13,
   "metadata": {},
   "outputs": [
    {
     "data": {
      "text/plain": [
       "[7.9256459610344585, 0.18789237680857493]"
      ]
     },
     "execution_count": 13,
     "metadata": {},
     "output_type": "execute_result"
    }
   ],
   "source": [
    "model.load_weights('simple_best_weights_cnn.h5')\n",
    "model.evaluate_generator(test_gen, 149)"
   ]
  },
  {
   "cell_type": "markdown",
   "metadata": {},
   "source": [
    "### Evaluate loss and accuracy of the augmented model"
   ]
  },
  {
   "cell_type": "code",
   "execution_count": 14,
   "metadata": {},
   "outputs": [
    {
     "data": {
      "text/plain": [
       "[3.1662308806261139, 0.43587443979599017]"
      ]
     },
     "execution_count": 14,
     "metadata": {},
     "output_type": "execute_result"
    }
   ],
   "source": [
    "model.load_weights('augmented_simple_cnn_best_weight.h5')\n",
    "model.evaluate_generator(test_gen, 149)"
   ]
  },
  {
   "cell_type": "code",
   "execution_count": null,
   "metadata": {
    "collapsed": true
   },
   "outputs": [],
   "source": []
  }
 ],
 "metadata": {
  "kernelspec": {
   "display_name": "dog-project",
   "language": "python",
   "name": "dog-project"
  },
  "language_info": {
   "codemirror_mode": {
    "name": "ipython",
    "version": 3
   },
   "file_extension": ".py",
   "mimetype": "text/x-python",
   "name": "python",
   "nbconvert_exporter": "python",
   "pygments_lexer": "ipython3",
   "version": "3.5.3"
  }
 },
 "nbformat": 4,
 "nbformat_minor": 2
}
