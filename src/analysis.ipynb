{
 "cells": [
  {
   "cell_type": "code",
   "execution_count": 1,
   "metadata": {},
   "outputs": [
    {
     "data": {
      "text/html": [
       "<div>\n",
       "<style scoped>\n",
       "    .dataframe tbody tr th:only-of-type {\n",
       "        vertical-align: middle;\n",
       "    }\n",
       "\n",
       "    .dataframe tbody tr th {\n",
       "        vertical-align: top;\n",
       "    }\n",
       "\n",
       "    .dataframe thead th {\n",
       "        text-align: right;\n",
       "    }\n",
       "</style>\n",
       "<table border=\"1\" class=\"dataframe\">\n",
       "  <thead>\n",
       "    <tr style=\"text-align: right;\">\n",
       "      <th></th>\n",
       "      <th>id</th>\n",
       "      <th>url</th>\n",
       "      <th>landmark_id</th>\n",
       "    </tr>\n",
       "  </thead>\n",
       "  <tbody>\n",
       "    <tr>\n",
       "      <th>0</th>\n",
       "      <td>cacf8152e2d2ae60</td>\n",
       "      <td>http://static.panoramio.com/photos/original/70...</td>\n",
       "      <td>4676</td>\n",
       "    </tr>\n",
       "    <tr>\n",
       "      <th>1</th>\n",
       "      <td>0a58358a2afd3e4e</td>\n",
       "      <td>http://lh6.ggpht.com/-igpT6wu0mIA/ROV8HnUuABI/...</td>\n",
       "      <td>6651</td>\n",
       "    </tr>\n",
       "    <tr>\n",
       "      <th>2</th>\n",
       "      <td>6b2bb500b6a38aa0</td>\n",
       "      <td>http://lh6.ggpht.com/-vKr5G5MEusk/SR6r6SJi6mI/...</td>\n",
       "      <td>11284</td>\n",
       "    </tr>\n",
       "    <tr>\n",
       "      <th>3</th>\n",
       "      <td>b399f09dee9c3c67</td>\n",
       "      <td>https://lh3.googleusercontent.com/-LOW2cjAqubA...</td>\n",
       "      <td>8429</td>\n",
       "    </tr>\n",
       "    <tr>\n",
       "      <th>4</th>\n",
       "      <td>19ace29d77a5be66</td>\n",
       "      <td>https://lh5.googleusercontent.com/-tnmSXwQcWL8...</td>\n",
       "      <td>6231</td>\n",
       "    </tr>\n",
       "  </tbody>\n",
       "</table>\n",
       "</div>"
      ],
      "text/plain": [
       "                 id                                                url  \\\n",
       "0  cacf8152e2d2ae60  http://static.panoramio.com/photos/original/70...   \n",
       "1  0a58358a2afd3e4e  http://lh6.ggpht.com/-igpT6wu0mIA/ROV8HnUuABI/...   \n",
       "2  6b2bb500b6a38aa0  http://lh6.ggpht.com/-vKr5G5MEusk/SR6r6SJi6mI/...   \n",
       "3  b399f09dee9c3c67  https://lh3.googleusercontent.com/-LOW2cjAqubA...   \n",
       "4  19ace29d77a5be66  https://lh5.googleusercontent.com/-tnmSXwQcWL8...   \n",
       "\n",
       "   landmark_id  \n",
       "0         4676  \n",
       "1         6651  \n",
       "2        11284  \n",
       "3         8429  \n",
       "4         6231  "
      ]
     },
     "execution_count": 1,
     "metadata": {},
     "output_type": "execute_result"
    }
   ],
   "source": [
    "import pandas as pd\n",
    "\n",
    "ds = pd.read_csv('data/dataset.csv')\n",
    "ds.head(5)"
   ]
  },
  {
   "cell_type": "markdown",
   "metadata": {},
   "source": [
    "## Data points and classes from dataset that we have"
   ]
  },
  {
   "cell_type": "code",
   "execution_count": 2,
   "metadata": {},
   "outputs": [
    {
     "data": {
      "text/plain": [
       "id             1225029\n",
       "url            1225029\n",
       "landmark_id      14951\n",
       "dtype: int64"
      ]
     },
     "execution_count": 2,
     "metadata": {},
     "output_type": "execute_result"
    }
   ],
   "source": [
    "ds.nunique()"
   ]
  },
  {
   "cell_type": "markdown",
   "metadata": {},
   "source": [
    "The dataset contains **1,225,029** images that belongs to **14,951** classes. Let say each image take 200KB to download, then it would be more than 244GB! Download all of this dataset would take about a week (24/7 and a stable internet connection). The time for training could take a month (based on my current limiting computational resource). For that reason, I will use only images from about 1% (149 classes) of the total classes and split the training dataset into 75% for training, 25% for validation and testing. I believe 1% of the total classes would be enough to evaluate the solution model with a reasonable training time.\n",
    "\n",
    "## How about the distribution of data?"
   ]
  },
  {
   "cell_type": "code",
   "execution_count": 3,
   "metadata": {},
   "outputs": [
    {
     "data": {
      "image/png": "[encoded data removed]",
      "text/plain": [
       "<matplotlib.figure.Figure at 0x1f74592b518>"
      ]
     },
     "metadata": {},
     "output_type": "display_data"
    }
   ],
   "source": [
    "import matplotlib.pyplot as plt\n",
    "import seaborn as sns\n",
    "%matplotlib inline \n",
    "\n",
    "plt.figure(figsize = (5, 4))\n",
    "plt.title('Category Distribuition')\n",
    "sns.distplot(ds['landmark_id'])\n",
    "\n",
    "plt.show()"
   ]
  },
  {
   "cell_type": "code",
   "execution_count": 4,
   "metadata": {},
   "outputs": [
    {
     "data": {
      "text/plain": [
       "count    14951.000000\n",
       "mean        81.936258\n",
       "std        707.234873\n",
       "min          1.000000\n",
       "25%          6.000000\n",
       "50%         14.000000\n",
       "75%         46.000000\n",
       "max      50337.000000\n",
       "Name: landmark_id, dtype: float64"
      ]
     },
     "execution_count": 4,
     "metadata": {},
     "output_type": "execute_result"
    }
   ],
   "source": [
    "ds['landmark_id'].value_counts().describe()"
   ]
  },
  {
   "cell_type": "markdown",
   "metadata": {
    "collapsed": true
   },
   "source": [
    "The dataset seem to be imbalanced. The dataset have 14,951 classes but 75% of them have less than 46 images while maximum can be 50,337 images.\n",
    "\n",
    "## Display some images"
   ]
  },
  {
   "cell_type": "code",
   "execution_count": 5,
   "metadata": {},
   "outputs": [
    {
     "data": {
      "text/html": [
       "<img style=\"width: 180px; margin: 0px; float: left; border: 1px solid black;\" src=\"https://lh5.googleusercontent.com/-JhaiEiqwqtY/SwWn2X5GqMI/AAAAAAAATGA/GEgZaajeNuQ/s1600/\" /><img style=\"width: 180px; margin: 0px; float: left; border: 1px solid black;\" src=\"https://lh5.googleusercontent.com/-4l8dPfWt39s/Sj8NOdQ89nI/AAAAAAAAARE/Ip061MCuBos/s1600/\" /><img style=\"width: 180px; margin: 0px; float: left; border: 1px solid black;\" src=\"https://lh5.googleusercontent.com/-Td8R1b5ydvc/UhM_VEMVCYI/AAAAAAAAAa0/z5XtYNshJJQ/s1600/\" /><img style=\"width: 180px; margin: 0px; float: left; border: 1px solid black;\" src=\"http://lh6.ggpht.com/-YIduyhl0_mQ/UDKVtRoO-NI/AAAAAAAACF4/8K_HdQMIB90/s1600/\" /><img style=\"width: 180px; margin: 0px; float: left; border: 1px solid black;\" src=\"http://lh6.ggpht.com/-Kf6LaTUlZxc/RrNkRcAVxSI/AAAAAAAAAT8/5VY_52MTUzg/s1600/\" /><img style=\"width: 180px; margin: 0px; float: left; border: 1px solid black;\" src=\"https://lh5.googleusercontent.com/-7O0wI_PrxEY/UWw888297sI/AAAAAAAABCE/Hp5VhzwuJlk/s1600/\" /><img style=\"width: 180px; margin: 0px; float: left; border: 1px solid black;\" src=\"http://mw2.google.com/mw-panoramio/photos/medium/30394030.jpg\" /><img style=\"width: 180px; margin: 0px; float: left; border: 1px solid black;\" src=\"http://lh4.ggpht.com/--mNJ4yft-qU/SNYfjCwR6_I/AAAAAAAABcM/JI9eEKFb3ao/s1600/\" /><img style=\"width: 180px; margin: 0px; float: left; border: 1px solid black;\" src=\"https://lh6.googleusercontent.com/-kTo_6oiZ5OE/Rq7zazdQ9VI/AAAAAAAAAEk/h53sWdPausE/s1600/\" /><img style=\"width: 180px; margin: 0px; float: left; border: 1px solid black;\" src=\"http://lh6.ggpht.com/-DANj2OLwbYc/T9JE5YnK6VI/AAAAAAAAA4M/NWBJ0gDUjjY/s1600/\" />"
      ],
      "text/plain": [
       "<IPython.core.display.HTML object>"
      ]
     },
     "metadata": {},
     "output_type": "display_data"
    }
   ],
   "source": [
    "from utils import visualization as vs\n",
    "\n",
    "urls = ds[ds['landmark_id'] == 3]['url']\n",
    "vs.display_image_from_urls(urls, display_len=10)"
   ]
  },
  {
   "cell_type": "markdown",
   "metadata": {},
   "source": [
    "By visualize some images, I known that the size of the images in the dataset are different.\n",
    "\n",
    "## The reduced version of the dataset"
   ]
  },
  {
   "cell_type": "code",
   "execution_count": 6,
   "metadata": {},
   "outputs": [
    {
     "data": {
      "text/plain": [
       "count    149.000000\n",
       "mean      13.657718\n",
       "std        0.476074\n",
       "min       13.000000\n",
       "25%       13.000000\n",
       "50%       14.000000\n",
       "75%       14.000000\n",
       "max       14.000000\n",
       "Name: landmark_id, dtype: float64"
      ]
     },
     "execution_count": 6,
     "metadata": {},
     "output_type": "execute_result"
    }
   ],
   "source": [
    "total_classes = ds['landmark_id'].nunique()\n",
    "ix = total_classes // 2  # Median index\n",
    "nb_classes = total_classes // 100  # number of classes we will use (1% of total classes)\n",
    "start = ix - (nb_classes // 2)\n",
    "end = ix + (nb_classes // 2)\n",
    "\n",
    "# Sort dataset by count the url and get the reduced number of classes in the median range\n",
    "df = ds[['landmark_id', 'url']].groupby(['landmark_id']).count().sort_values(['url']).reset_index()\n",
    "df = df.iloc[start: end + 1]\n",
    "\n",
    "# Filter landmark_id to get the reduced version of data\n",
    "data = ds[ds['landmark_id'].isin(df['landmark_id'])].reset_index(drop=True)\n",
    "\n",
    "# Some statistics of the reduced data version\n",
    "data['landmark_id'].value_counts().describe()"
   ]
  },
  {
   "cell_type": "markdown",
   "metadata": {},
   "source": [
    "The reduced version of the dataset seem to be balanced. Each class contains from 13 to 14 images. Not too much images for training a model. But let see how well my learning model will perform in this dataset.\n",
    "\n",
    "## Split the reduced version of dataset for training, testing and validating"
   ]
  },
  {
   "cell_type": "code",
   "execution_count": 7,
   "metadata": {},
   "outputs": [
    {
     "name": "stdout",
     "output_type": "stream",
     "text": [
      "1490 396 149\n"
     ]
    }
   ],
   "source": [
    "import numpy as np\n",
    "import csv\n",
    "from math import ceil, floor\n",
    "\n",
    "train = None\n",
    "valid = None\n",
    "test = None\n",
    "for name, group in data.groupby('landmark_id'):\n",
    "    test_size = int(floor(.1*len(group)))  # 10% for testing\n",
    "    valid_size = int(ceil(.15*len(group)))  # 15% for validating\n",
    "    test_, valid_, train_ = np.split(group, [test_size, test_size + valid_size])\n",
    "    if train is None:\n",
    "        train, valid, test = (train_, valid_, test_)\n",
    "    else:\n",
    "        train = train.append(train_, ignore_index=True)\n",
    "        valid = valid.append(valid_, ignore_index=True)\n",
    "        test = test.append(test_, ignore_index=True)\n",
    "print(len(train), len(valid), len(test))\n",
    "\n",
    "# Save to csv files\n",
    "train.to_csv('data/train.csv', index=False, quoting=csv.QUOTE_NONNUMERIC)\n",
    "valid.to_csv('data/valid.csv', index=False, quoting=csv.QUOTE_NONNUMERIC)\n",
    "test.to_csv('data/test.csv', index=False, quoting=csv.QUOTE_NONNUMERIC)"
   ]
  },
  {
   "cell_type": "markdown",
   "metadata": {},
   "source": [
    "## Download images"
   ]
  },
  {
   "cell_type": "code",
   "execution_count": 8,
   "metadata": {},
   "outputs": [
    {
     "name": "stderr",
     "output_type": "stream",
     "text": [
      "100%|██████████████████████████████████████████████████████████████████████████████| 1490/1490 [02:06<00:00, 11.77it/s]\n"
     ]
    },
    {
     "name": "stdout",
     "output_type": "stream",
     "text": [
      "Total number of download failures: 7\n"
     ]
    },
    {
     "name": "stderr",
     "output_type": "stream",
     "text": [
      "100%|████████████████████████████████████████████████████████████████████████████████| 396/396 [00:41<00:00,  1.24it/s]\n"
     ]
    },
    {
     "name": "stdout",
     "output_type": "stream",
     "text": [
      "Total number of download failures: 1\n"
     ]
    },
    {
     "name": "stderr",
     "output_type": "stream",
     "text": [
      "100%|████████████████████████████████████████████████████████████████████████████████| 149/149 [00:20<00:00,  1.81s/it]\n"
     ]
    },
    {
     "name": "stdout",
     "output_type": "stream",
     "text": [
      "Total number of download failures: 0\n"
     ]
    }
   ],
   "source": [
    "from utils.download_data import fetch\n",
    "\n",
    "fetch('data/train.csv', 'data/train')\n",
    "fetch('data/valid.csv', 'data/valid')\n",
    "fetch('data/test.csv', 'data/test')"
   ]
  },
  {
   "cell_type": "code",
   "execution_count": null,
   "metadata": {
    "collapsed": true
   },
   "outputs": [],
   "source": []
  }
 ],
 "metadata": {
  "kernelspec": {
   "display_name": "dog-project",
   "language": "python",
   "name": "dog-project"
  },
  "language_info": {
   "codemirror_mode": {
    "name": "ipython",
    "version": 3
   },
   "file_extension": ".py",
   "mimetype": "text/x-python",
   "name": "python",
   "nbconvert_exporter": "python",
   "pygments_lexer": "ipython3",
   "version": "3.5.3"
  }
 },
 "nbformat": 4,
 "nbformat_minor": 2
}
