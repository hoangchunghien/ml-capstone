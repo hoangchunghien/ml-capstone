{
 "cells": [
  {
   "cell_type": "code",
   "execution_count": 1,
   "metadata": {},
   "outputs": [
    {
     "name": "stderr",
     "output_type": "stream",
     "text": [
      "Using TensorFlow backend.\n"
     ]
    }
   ],
   "source": [
    "import numpy as np\n",
    "from keras import applications\n",
    "from keras.models import Sequential\n",
    "from keras import applications\n",
    "from keras.layers import Activation, Dropout, Flatten, Dense\n",
    "from keras.models import Model\n",
    "from keras.preprocessing.image import ImageDataGenerator\n",
    "from keras.optimizers import SGD\n",
    "from keras.callbacks import EarlyStopping, ModelCheckpoint\n",
    "import matplotlib.pyplot as plt\n",
    "%matplotlib inline\n",
    "\n",
    "from PIL import ImageFile\n",
    "ImageFile.LOAD_TRUNCATED_IMAGES = True\n",
    "\n",
    "# Dimensions of our images\n",
    "img_width, img_height = (224, 224)\n",
    "\n",
    "epochs = 100\n",
    "\n",
    "train_dir = 'data/train'\n",
    "valid_dir = 'data/valid'\n",
    "test_dir = 'data/test'"
   ]
  },
  {
   "cell_type": "markdown",
   "metadata": {},
   "source": [
    "## Data preprocessing"
   ]
  },
  {
   "cell_type": "code",
   "execution_count": 2,
   "metadata": {},
   "outputs": [
    {
     "name": "stdout",
     "output_type": "stream",
     "text": [
      "Found 1484 images belonging to 149 classes.\n",
      "Found 395 images belonging to 149 classes.\n",
      "Found 149 images belonging to 149 classes.\n"
     ]
    }
   ],
   "source": [
    "# Pixel values rescaling from [0, 255] to [0, 1] interval\n",
    "datagen = ImageDataGenerator(rescale=1. / 255)\n",
    "batch_size = 1\n",
    "\n",
    "# Retrieve images and their classes for train and validation sets\n",
    "train_gen = datagen.flow_from_directory(\n",
    "        train_dir,\n",
    "        target_size=(img_width, img_height),\n",
    "        batch_size=batch_size,\n",
    "        class_mode=None,\n",
    "        shuffle=False)\n",
    "\n",
    "valid_gen = datagen.flow_from_directory(\n",
    "        valid_dir,\n",
    "        target_size=(img_width, img_height),\n",
    "        batch_size=batch_size,\n",
    "        class_mode=None,\n",
    "        shuffle=False)\n",
    "\n",
    "test_gen = datagen.flow_from_directory(\n",
    "        test_dir,\n",
    "        target_size=(img_width, img_height),\n",
    "        batch_size=batch_size,\n",
    "        class_mode=None,\n",
    "        shuffle=False)"
   ]
  },
  {
   "cell_type": "code",
   "execution_count": 3,
   "metadata": {
    "collapsed": true
   },
   "outputs": [],
   "source": [
    "nb_train_samples = 1484\n",
    "nb_valid_samples = 395\n",
    "nb_test_samples = 149\n",
    "nb_classes = len(train_gen.class_indices)"
   ]
  },
  {
   "cell_type": "markdown",
   "metadata": {},
   "source": [
    "### Extract bottleneck features from images"
   ]
  },
  {
   "cell_type": "code",
   "execution_count": 21,
   "metadata": {},
   "outputs": [],
   "source": [
    "model_vgg = applications.VGG16(include_top=False, weights='imagenet')\n",
    "\n",
    "bottleneck_features_train = model_vgg.predict_generator(train_gen, nb_train_samples // batch_size)\n",
    "np.save(open('data/bottleneck_features_train.npy', 'wb'), bottleneck_features_train)\n",
    "\n",
    "bottleneck_features_valid = model_vgg.predict_generator(valid_gen, nb_valid_samples // batch_size)\n",
    "np.save(open('data/bottleneck_features_valid.npy', 'wb'), bottleneck_features_valid)\n",
    "\n",
    "bottleneck_features_test = model_vgg.predict_generator(test_gen, nb_test_samples // batch_size)\n",
    "np.save(open('data/bottleneck_features_test.npy', 'wb'), bottleneck_features_test)"
   ]
  },
  {
   "cell_type": "markdown",
   "metadata": {},
   "source": [
    "### Load extracted features as training data"
   ]
  },
  {
   "cell_type": "code",
   "execution_count": 4,
   "metadata": {},
   "outputs": [],
   "source": [
    "from keras.utils.np_utils import to_categorical \n",
    "\n",
    "train_X = np.load(open('data/bottleneck_features_train.npy', 'rb'))\n",
    "train_y = to_categorical(train_gen.classes, num_classes=nb_classes)\n",
    "\n",
    "valid_X = np.load(open('data/bottleneck_features_valid.npy', 'rb'))\n",
    "valid_y = to_categorical(valid_gen.classes, num_classes=nb_classes)\n",
    "\n",
    "test_X = np.load(open('data/bottleneck_features_test.npy', 'rb'))\n",
    "test_y = to_categorical(test_gen.classes, num_classes=nb_classes)"
   ]
  },
  {
   "cell_type": "markdown",
   "metadata": {},
   "source": [
    "## Define model architecture"
   ]
  },
  {
   "cell_type": "code",
   "execution_count": 17,
   "metadata": {},
   "outputs": [],
   "source": [
    "def generate_model(train_X):\n",
    "    model = Sequential()\n",
    "    model.add(Flatten(input_shape=train_X.shape[1:]))\n",
    "    model.add(Dense(512, activation='relu'))\n",
    "    model.add(Dropout(0.5))\n",
    "    model.add(Dense(nb_classes, activation='softmax'))\n",
    "    return model\n",
    "\n",
    "model = generate_model(train_X)"
   ]
  },
  {
   "cell_type": "markdown",
   "metadata": {},
   "source": [
    "## Train the model"
   ]
  },
  {
   "cell_type": "code",
   "execution_count": 18,
   "metadata": {},
   "outputs": [
    {
     "name": "stdout",
     "output_type": "stream",
     "text": [
      "Train on 1484 samples, validate on 395 samples\n",
      "Epoch 1/100\n",
      "1480/1484 [============================>.] - ETA: 0s - loss: 8.0454 - acc: 0.0135Epoch 00000: val_acc improved from -inf to 0.03544, saving model to solution_best.h5\n",
      "1484/1484 [==============================] - 22s - loss: 8.0384 - acc: 0.0135 - val_loss: 4.9712 - val_acc: 0.0354\n",
      "Epoch 2/100\n",
      "1480/1484 [============================>.] - ETA: 0s - loss: 5.0873 - acc: 0.0284Epoch 00001: val_acc improved from 0.03544 to 0.04304, saving model to solution_best.h5\n",
      "1484/1484 [==============================] - 20s - loss: 5.0903 - acc: 0.0283 - val_loss: 4.9301 - val_acc: 0.0430\n",
      "Epoch 3/100\n",
      "1480/1484 [============================>.] - ETA: 0s - loss: 4.7881 - acc: 0.0649Epoch 00002: val_acc did not improve\n",
      "1484/1484 [==============================] - 19s - loss: 4.7868 - acc: 0.0647 - val_loss: 4.8969 - val_acc: 0.0405\n",
      "Epoch 4/100\n",
      "1480/1484 [============================>.] - ETA: 0s - loss: 4.3557 - acc: 0.1007Epoch 00003: val_acc improved from 0.04304 to 0.15949, saving model to solution_best.h5\n",
      "1484/1484 [==============================] - 20s - loss: 4.3571 - acc: 0.1004 - val_loss: 4.0364 - val_acc: 0.1595\n",
      "Epoch 5/100\n",
      "1480/1484 [============================>.] - ETA: 0s - loss: 3.7927 - acc: 0.1743Epoch 00004: val_acc improved from 0.15949 to 0.29367, saving model to solution_best.h5\n",
      "1484/1484 [==============================] - 20s - loss: 3.7885 - acc: 0.1745 - val_loss: 3.3091 - val_acc: 0.2937\n",
      "Epoch 6/100\n",
      "1480/1484 [============================>.] - ETA: 0s - loss: 3.1389 - acc: 0.2959Epoch 00005: val_acc improved from 0.29367 to 0.42025, saving model to solution_best.h5\n",
      "1484/1484 [==============================] - 20s - loss: 3.1365 - acc: 0.2958 - val_loss: 2.6862 - val_acc: 0.4203\n",
      "Epoch 7/100\n",
      "1480/1484 [============================>.] - ETA: 0s - loss: 2.5684 - acc: 0.4020Epoch 00006: val_acc improved from 0.42025 to 0.44557, saving model to solution_best.h5\n",
      "1484/1484 [==============================] - 20s - loss: 2.5692 - acc: 0.4016 - val_loss: 2.4801 - val_acc: 0.4456\n",
      "Epoch 8/100\n",
      "1480/1484 [============================>.] - ETA: 0s - loss: 2.0275 - acc: 0.5027Epoch 00007: val_acc improved from 0.44557 to 0.46076, saving model to solution_best.h5\n",
      "1484/1484 [==============================] - 20s - loss: 2.0299 - acc: 0.5027 - val_loss: 2.3825 - val_acc: 0.4608\n",
      "Epoch 9/100\n",
      "1480/1484 [============================>.] - ETA: 0s - loss: 1.7018 - acc: 0.5757Epoch 00008: val_acc improved from 0.46076 to 0.55443, saving model to solution_best.h5\n",
      "1484/1484 [==============================] - 20s - loss: 1.7097 - acc: 0.5748 - val_loss: 1.8371 - val_acc: 0.5544\n",
      "Epoch 10/100\n",
      "1480/1484 [============================>.] - ETA: 0s - loss: 1.4264 - acc: 0.6486Epoch 00009: val_acc did not improve\n",
      "1484/1484 [==============================] - 20s - loss: 1.4316 - acc: 0.6476 - val_loss: 2.0859 - val_acc: 0.5443\n",
      "Epoch 11/100\n",
      "1480/1484 [============================>.] - ETA: 0s - loss: 1.2101 - acc: 0.6804Epoch 00010: val_acc improved from 0.55443 to 0.57975, saving model to solution_best.h5\n",
      "1484/1484 [==============================] - 20s - loss: 1.2088 - acc: 0.6799 - val_loss: 1.9118 - val_acc: 0.5797\n",
      "Epoch 12/100\n",
      "1480/1484 [============================>.] - ETA: 0s - loss: 1.0204 - acc: 0.7372Epoch 00011: val_acc improved from 0.57975 to 0.65570, saving model to solution_best.h5\n",
      "1484/1484 [==============================] - 20s - loss: 1.0225 - acc: 0.7372 - val_loss: 1.5762 - val_acc: 0.6557\n",
      "Epoch 13/100\n",
      "1480/1484 [============================>.] - ETA: 0s - loss: 0.8913 - acc: 0.7655Epoch 00012: val_acc did not improve\n",
      "1484/1484 [==============================] - 20s - loss: 0.8890 - acc: 0.7662 - val_loss: 1.6008 - val_acc: 0.6557\n",
      "Epoch 14/100\n",
      "1480/1484 [============================>.] - ETA: 0s - loss: 0.8568 - acc: 0.7912Epoch 00013: val_acc improved from 0.65570 to 0.69367, saving model to solution_best.h5\n",
      "1484/1484 [==============================] - 20s - loss: 0.8545 - acc: 0.7918 - val_loss: 1.4529 - val_acc: 0.6937\n",
      "Epoch 15/100\n",
      "1480/1484 [============================>.] - ETA: 0s - loss: 0.7729 - acc: 0.8020Epoch 00014: val_acc did not improve\n",
      "1484/1484 [==============================] - 20s - loss: 0.7772 - acc: 0.8012 - val_loss: 2.0266 - val_acc: 0.6278\n",
      "Epoch 16/100\n",
      "1480/1484 [============================>.] - ETA: 0s - loss: 0.7298 - acc: 0.8169Epoch 00015: val_acc improved from 0.69367 to 0.71392, saving model to solution_best.h5\n",
      "1484/1484 [==============================] - 20s - loss: 0.7281 - acc: 0.8174 - val_loss: 1.4694 - val_acc: 0.7139\n",
      "Epoch 17/100\n",
      "1480/1484 [============================>.] - ETA: 0s - loss: 0.6921 - acc: 0.8264Epoch 00016: val_acc did not improve\n",
      "1484/1484 [==============================] - 20s - loss: 0.7028 - acc: 0.8248 - val_loss: 2.2989 - val_acc: 0.6177\n",
      "Epoch 18/100\n",
      "1480/1484 [============================>.] - ETA: 0s - loss: 0.6220 - acc: 0.8480Epoch 00017: val_acc did not improve\n",
      "1484/1484 [==============================] - 19s - loss: 0.6206 - acc: 0.8484 - val_loss: 1.7075 - val_acc: 0.6684\n",
      "Epoch 19/100\n",
      "1480/1484 [============================>.] - ETA: 0s - loss: 0.5745 - acc: 0.8581Epoch 00018: val_acc did not improve\n",
      "1484/1484 [==============================] - 19s - loss: 0.5789 - acc: 0.8578 - val_loss: 1.9300 - val_acc: 0.6684\n",
      "Epoch 20/100\n",
      "1480/1484 [============================>.] - ETA: 0s - loss: 0.5616 - acc: 0.8676Epoch 00019: val_acc did not improve\n",
      "1484/1484 [==============================] - 19s - loss: 0.5611 - acc: 0.8673 - val_loss: 2.0467 - val_acc: 0.6835\n",
      "Epoch 21/100\n",
      "1480/1484 [============================>.] - ETA: 0s - loss: 0.5628 - acc: 0.8669Epoch 00020: val_acc improved from 0.71392 to 0.72911, saving model to solution_best.h5\n",
      "1484/1484 [==============================] - 20s - loss: 0.5631 - acc: 0.8666 - val_loss: 1.5647 - val_acc: 0.7291\n",
      "Epoch 22/100\n",
      "1480/1484 [============================>.] - ETA: 0s - loss: 0.5546 - acc: 0.8649Epoch 00021: val_acc did not improve\n",
      "1484/1484 [==============================] - 20s - loss: 0.5531 - acc: 0.8652 - val_loss: 1.6867 - val_acc: 0.7114\n",
      "Epoch 23/100\n",
      "1480/1484 [============================>.] - ETA: 0s - loss: 0.4972 - acc: 0.8804Epoch 00022: val_acc did not improve\n",
      "1484/1484 [==============================] - 19s - loss: 0.4958 - acc: 0.8807 - val_loss: 1.8876 - val_acc: 0.6810\n",
      "Epoch 24/100\n",
      "1480/1484 [============================>.] - ETA: 0s - loss: 0.5074 - acc: 0.8912Epoch 00023: val_acc did not improve\n",
      "1484/1484 [==============================] - 19s - loss: 0.5061 - acc: 0.8915 - val_loss: 1.6340 - val_acc: 0.7241\n",
      "Epoch 25/100\n",
      "1480/1484 [============================>.] - ETA: 0s - loss: 0.4178 - acc: 0.9034Epoch 00024: val_acc did not improve\n",
      "1484/1484 [==============================] - 19s - loss: 0.4167 - acc: 0.9036 - val_loss: 1.8828 - val_acc: 0.7139\n",
      "Epoch 26/100\n",
      "1480/1484 [============================>.] - ETA: 0s - loss: 0.4916 - acc: 0.8946Epoch 00025: val_acc did not improve\n",
      "1484/1484 [==============================] - 19s - loss: 0.4905 - acc: 0.8949 - val_loss: 1.9390 - val_acc: 0.6962\n",
      "Epoch 27/100\n",
      "1480/1484 [============================>.] - ETA: 0s - loss: 0.4211 - acc: 0.9068Epoch 00026: val_acc did not improve\n",
      "1484/1484 [==============================] - 19s - loss: 0.4200 - acc: 0.9070 - val_loss: 2.0269 - val_acc: 0.6987\n",
      "Epoch 00026: early stopping\n"
     ]
    }
   ],
   "source": [
    "model.compile(loss='categorical_crossentropy',optimizer='rmsprop', metrics=['accuracy'])\n",
    "\n",
    "# Model saving callback\n",
    "checkpointer = ModelCheckpoint(filepath='solution_best.h5', monitor='val_acc', verbose=1, save_best_only=True)\n",
    "\n",
    "# Early stopping\n",
    "early_stopping = EarlyStopping(monitor='val_acc', verbose=1, patience=5)\n",
    "\n",
    "history = model.fit(train_X,\n",
    "    train_y,\n",
    "    epochs=epochs,\n",
    "    callbacks=[checkpointer, early_stopping],\n",
    "    batch_size=10,\n",
    "    validation_data=(valid_X, valid_y))"
   ]
  },
  {
   "cell_type": "markdown",
   "metadata": {},
   "source": [
    "## Plot training result"
   ]
  },
  {
   "cell_type": "code",
   "execution_count": 25,
   "metadata": {},
   "outputs": [
    {
     "data": {
      "image/png": "[encoded data removed]",
      "text/plain": [
       "<matplotlib.figure.Figure at 0x2ad8fdf3f98>"
      ]
     },
     "metadata": {},
     "output_type": "display_data"
    }
   ],
   "source": [
    "fig, ax = plt.subplots()\n",
    "plt.plot(history.history['acc'])\n",
    "plt.plot(history.history['val_acc'])\n",
    "plt.title('Model accuracy')\n",
    "plt.ylabel('Accuracy')\n",
    "plt.xlabel('Epoch')\n",
    "plt.legend(['Train', 'Valid'], loc='upper left')\n",
    "plt.show()"
   ]
  },
  {
   "cell_type": "markdown",
   "metadata": {},
   "source": [
    "## Refinement"
   ]
  },
  {
   "cell_type": "code",
   "execution_count": 8,
   "metadata": {},
   "outputs": [
    {
     "name": "stdout",
     "output_type": "stream",
     "text": [
      "Train on 1484 samples, validate on 395 samples\n",
      "Epoch 1/100\n",
      "1480/1484 [============================>.] - ETA: 0s - loss: 5.1458 - acc: 0.0068Epoch 00000: val_acc improved from -inf to 0.02025, saving model to finetune_solution_best.h5\n",
      "1484/1484 [==============================] - 14s - loss: 5.1454 - acc: 0.0067 - val_loss: 4.9587 - val_acc: 0.0203\n",
      "Epoch 2/100\n",
      "1480/1484 [============================>.] - ETA: 0s - loss: 4.9716 - acc: 0.0203Epoch 00001: val_acc improved from 0.02025 to 0.02785, saving model to finetune_solution_best.h5\n",
      "1484/1484 [==============================] - 11s - loss: 4.9711 - acc: 0.0202 - val_loss: 4.9192 - val_acc: 0.0278\n",
      "Epoch 3/100\n",
      "1480/1484 [============================>.] - ETA: 0s - loss: 4.9160 - acc: 0.0142Epoch 00002: val_acc did not improve\n",
      "1484/1484 [==============================] - 10s - loss: 4.9162 - acc: 0.0142 - val_loss: 4.9006 - val_acc: 0.0278\n",
      "Epoch 4/100\n",
      "1480/1484 [============================>.] - ETA: 0s - loss: 4.8745 - acc: 0.0216Epoch 00003: val_acc improved from 0.02785 to 0.05316, saving model to finetune_solution_best.h5\n",
      "1484/1484 [==============================] - 11s - loss: 4.8751 - acc: 0.0216 - val_loss: 4.8390 - val_acc: 0.0532\n",
      "Epoch 5/100\n",
      "1480/1484 [============================>.] - ETA: 0s - loss: 4.7933 - acc: 0.0297Epoch 00004: val_acc did not improve\n",
      "1484/1484 [==============================] - 11s - loss: 4.7928 - acc: 0.0296 - val_loss: 4.7829 - val_acc: 0.0532\n",
      "Epoch 6/100\n",
      "1480/1484 [============================>.] - ETA: 0s - loss: 4.7177 - acc: 0.0459Epoch 00005: val_acc improved from 0.05316 to 0.07595, saving model to finetune_solution_best.h5\n",
      "1484/1484 [==============================] - 11s - loss: 4.7172 - acc: 0.0458 - val_loss: 4.6991 - val_acc: 0.0759\n",
      "Epoch 7/100\n",
      "1480/1484 [============================>.] - ETA: 0s - loss: 4.6222 - acc: 0.0662Epoch 00006: val_acc improved from 0.07595 to 0.10380, saving model to finetune_solution_best.h5\n",
      "1484/1484 [==============================] - 11s - loss: 4.6216 - acc: 0.0667 - val_loss: 4.6413 - val_acc: 0.1038\n",
      "Epoch 8/100\n",
      "1480/1484 [============================>.] - ETA: 0s - loss: 4.5334 - acc: 0.0845Epoch 00007: val_acc improved from 0.10380 to 0.12405, saving model to finetune_solution_best.h5\n",
      "1484/1484 [==============================] - 11s - loss: 4.5327 - acc: 0.0842 - val_loss: 4.5275 - val_acc: 0.1241\n",
      "Epoch 9/100\n",
      "1480/1484 [============================>.] - ETA: 0s - loss: 4.4030 - acc: 0.1020Epoch 00008: val_acc improved from 0.12405 to 0.15190, saving model to finetune_solution_best.h5\n",
      "1484/1484 [==============================] - 11s - loss: 4.4033 - acc: 0.1018 - val_loss: 4.4548 - val_acc: 0.1519\n",
      "Epoch 10/100\n",
      "1480/1484 [============================>.] - ETA: 0s - loss: 4.3013 - acc: 0.1169Epoch 00009: val_acc improved from 0.15190 to 0.20506, saving model to finetune_solution_best.h5\n",
      "1484/1484 [==============================] - 11s - loss: 4.3019 - acc: 0.1166 - val_loss: 4.3306 - val_acc: 0.2051\n",
      "Epoch 11/100\n",
      "1480/1484 [============================>.] - ETA: 0s - loss: 4.1730 - acc: 0.1405Epoch 00010: val_acc improved from 0.20506 to 0.20506, saving model to finetune_solution_best.h5\n",
      "1484/1484 [==============================] - 11s - loss: 4.1727 - acc: 0.1402 - val_loss: 4.2595 - val_acc: 0.2051\n",
      "Epoch 12/100\n",
      "1480/1484 [============================>.] - ETA: 0s - loss: 4.0530 - acc: 0.1818Epoch 00011: val_acc improved from 0.20506 to 0.27848, saving model to finetune_solution_best.h5\n",
      "1484/1484 [==============================] - 11s - loss: 4.0519 - acc: 0.1819 - val_loss: 4.1434 - val_acc: 0.2785\n",
      "Epoch 13/100\n",
      "1480/1484 [============================>.] - ETA: 0s - loss: 3.9151 - acc: 0.2142Epoch 00012: val_acc improved from 0.27848 to 0.28101, saving model to finetune_solution_best.h5\n",
      "1484/1484 [==============================] - 11s - loss: 3.9150 - acc: 0.2136 - val_loss: 4.0286 - val_acc: 0.2810\n",
      "Epoch 14/100\n",
      "1480/1484 [============================>.] - ETA: 0s - loss: 3.7725 - acc: 0.2473Epoch 00013: val_acc improved from 0.28101 to 0.31139, saving model to finetune_solution_best.h5\n",
      "1484/1484 [==============================] - 11s - loss: 3.7723 - acc: 0.2466 - val_loss: 3.9275 - val_acc: 0.3114\n",
      "Epoch 15/100\n",
      "1480/1484 [============================>.] - ETA: 0s - loss: 3.6399 - acc: 0.2628Epoch 00014: val_acc improved from 0.31139 to 0.37468, saving model to finetune_solution_best.h5\n",
      "1484/1484 [==============================] - 11s - loss: 3.6384 - acc: 0.2628 - val_loss: 3.7934 - val_acc: 0.3747\n",
      "Epoch 16/100\n",
      "1480/1484 [============================>.] - ETA: 0s - loss: 3.4754 - acc: 0.3250Epoch 00015: val_acc did not improve\n",
      "1484/1484 [==============================] - 10s - loss: 3.4748 - acc: 0.3248 - val_loss: 3.7149 - val_acc: 0.3418\n",
      "Epoch 17/100\n",
      "1480/1484 [============================>.] - ETA: 0s - loss: 3.3587 - acc: 0.3297Epoch 00016: val_acc improved from 0.37468 to 0.44810, saving model to finetune_solution_best.h5\n",
      "1484/1484 [==============================] - 11s - loss: 3.3599 - acc: 0.3288 - val_loss: 3.5618 - val_acc: 0.4481\n",
      "Epoch 18/100\n",
      "1480/1484 [============================>.] - ETA: 0s - loss: 3.2119 - acc: 0.3676Epoch 00017: val_acc improved from 0.44810 to 0.46076, saving model to finetune_solution_best.h5\n",
      "1484/1484 [==============================] - 11s - loss: 3.2125 - acc: 0.3673 - val_loss: 3.4772 - val_acc: 0.4608\n",
      "Epoch 19/100\n",
      "1480/1484 [============================>.] - ETA: 0s - loss: 3.0814 - acc: 0.3953Epoch 00018: val_acc improved from 0.46076 to 0.51139, saving model to finetune_solution_best.h5\n",
      "1484/1484 [==============================] - 11s - loss: 3.0816 - acc: 0.3956 - val_loss: 3.3427 - val_acc: 0.5114\n",
      "Epoch 20/100\n",
      "1480/1484 [============================>.] - ETA: 0s - loss: 2.9463 - acc: 0.4459Epoch 00019: val_acc improved from 0.51139 to 0.51646, saving model to finetune_solution_best.h5\n",
      "1484/1484 [==============================] - 11s - loss: 2.9469 - acc: 0.4461 - val_loss: 3.2480 - val_acc: 0.5165\n",
      "Epoch 21/100\n",
      "1480/1484 [============================>.] - ETA: 0s - loss: 2.7626 - acc: 0.4939Epoch 00020: val_acc improved from 0.51646 to 0.55696, saving model to finetune_solution_best.h5\n",
      "1484/1484 [==============================] - 11s - loss: 2.7639 - acc: 0.4926 - val_loss: 3.1167 - val_acc: 0.5570\n",
      "Epoch 22/100\n",
      "1480/1484 [============================>.] - ETA: 0s - loss: 2.6521 - acc: 0.5054Epoch 00021: val_acc improved from 0.55696 to 0.58228, saving model to finetune_solution_best.h5\n",
      "1484/1484 [==============================] - 11s - loss: 2.6520 - acc: 0.5054 - val_loss: 3.0312 - val_acc: 0.5823\n",
      "Epoch 23/100\n",
      "1480/1484 [============================>.] - ETA: 0s - loss: 2.5156 - acc: 0.5399Epoch 00022: val_acc did not improve\n",
      "1484/1484 [==============================] - 10s - loss: 2.5193 - acc: 0.5384 - val_loss: 2.9384 - val_acc: 0.5797\n",
      "Epoch 24/100\n",
      "1480/1484 [============================>.] - ETA: 0s - loss: 2.4117 - acc: 0.5561Epoch 00023: val_acc improved from 0.58228 to 0.63038, saving model to finetune_solution_best.h5\n",
      "1484/1484 [==============================] - 11s - loss: 2.4151 - acc: 0.5559 - val_loss: 2.8491 - val_acc: 0.6304\n",
      "Epoch 25/100\n",
      "1480/1484 [============================>.] - ETA: 0s - loss: 2.3262 - acc: 0.5811Epoch 00024: val_acc improved from 0.63038 to 0.66076, saving model to finetune_solution_best.h5\n",
      "1484/1484 [==============================] - 11s - loss: 2.3281 - acc: 0.5809 - val_loss: 2.7702 - val_acc: 0.6608\n",
      "Epoch 26/100\n",
      "1480/1484 [============================>.] - ETA: 0s - loss: 2.1970 - acc: 0.6250Epoch 00025: val_acc improved from 0.66076 to 0.66076, saving model to finetune_solution_best.h5\n",
      "1484/1484 [==============================] - 11s - loss: 2.2025 - acc: 0.6233 - val_loss: 2.6786 - val_acc: 0.6608\n",
      "Epoch 27/100\n",
      "1480/1484 [============================>.] - ETA: 0s - loss: 2.0924 - acc: 0.6392Epoch 00026: val_acc improved from 0.66076 to 0.67342, saving model to finetune_solution_best.h5\n",
      "1484/1484 [==============================] - 11s - loss: 2.0913 - acc: 0.6395 - val_loss: 2.5977 - val_acc: 0.6734\n",
      "Epoch 28/100\n",
      "1480/1484 [============================>.] - ETA: 0s - loss: 2.0095 - acc: 0.6595Epoch 00027: val_acc did not improve\n"
     ]
    },
    {
     "name": "stdout",
     "output_type": "stream",
     "text": [
      "1484/1484 [==============================] - 11s - loss: 2.0084 - acc: 0.6590 - val_loss: 2.5242 - val_acc: 0.6532\n",
      "Epoch 29/100\n",
      "1480/1484 [============================>.] - ETA: 0s - loss: 1.8977 - acc: 0.6845Epoch 00028: val_acc improved from 0.67342 to 0.72658, saving model to finetune_solution_best.h5\n",
      "1484/1484 [==============================] - 11s - loss: 1.8972 - acc: 0.6846 - val_loss: 2.4181 - val_acc: 0.7266\n",
      "Epoch 30/100\n",
      "1480/1484 [============================>.] - ETA: 0s - loss: 1.8304 - acc: 0.6926Epoch 00029: val_acc did not improve\n",
      "1484/1484 [==============================] - 10s - loss: 1.8298 - acc: 0.6927 - val_loss: 2.3886 - val_acc: 0.7190\n",
      "Epoch 31/100\n",
      "1480/1484 [============================>.] - ETA: 0s - loss: 1.7406 - acc: 0.7209Epoch 00030: val_acc did not improve\n",
      "1484/1484 [==============================] - 10s - loss: 1.7406 - acc: 0.7204 - val_loss: 2.3143 - val_acc: 0.7139\n",
      "Epoch 32/100\n",
      "1480/1484 [============================>.] - ETA: 0s - loss: 1.6485 - acc: 0.7318Epoch 00031: val_acc improved from 0.72658 to 0.73671, saving model to finetune_solution_best.h5\n",
      "1484/1484 [==============================] - 11s - loss: 1.6514 - acc: 0.7305 - val_loss: 2.2571 - val_acc: 0.7367\n",
      "Epoch 33/100\n",
      "1480/1484 [============================>.] - ETA: 0s - loss: 1.5667 - acc: 0.7696Epoch 00032: val_acc did not improve\n",
      "1484/1484 [==============================] - 11s - loss: 1.5681 - acc: 0.7695 - val_loss: 2.1964 - val_acc: 0.7342\n",
      "Epoch 34/100\n",
      "1480/1484 [============================>.] - ETA: 0s - loss: 1.4693 - acc: 0.7703Epoch 00033: val_acc did not improve\n",
      "1484/1484 [==============================] - 11s - loss: 1.4694 - acc: 0.7702 - val_loss: 2.1183 - val_acc: 0.7342\n",
      "Epoch 35/100\n",
      "1480/1484 [============================>.] - ETA: 0s - loss: 1.4232 - acc: 0.7865Epoch 00034: val_acc did not improve\n",
      "1484/1484 [==============================] - 10s - loss: 1.4221 - acc: 0.7864 - val_loss: 2.0875 - val_acc: 0.7291\n",
      "Epoch 36/100\n",
      "1480/1484 [============================>.] - ETA: 0s - loss: 1.3304 - acc: 0.8108Epoch 00035: val_acc improved from 0.73671 to 0.74937, saving model to finetune_solution_best.h5\n",
      "1484/1484 [==============================] - 11s - loss: 1.3284 - acc: 0.8113 - val_loss: 2.0239 - val_acc: 0.7494\n",
      "Epoch 37/100\n",
      "1480/1484 [============================>.] - ETA: 0s - loss: 1.3216 - acc: 0.7980Epoch 00036: val_acc did not improve\n",
      "1484/1484 [==============================] - 10s - loss: 1.3220 - acc: 0.7978 - val_loss: 1.9826 - val_acc: 0.7443\n",
      "Epoch 38/100\n",
      "1480/1484 [============================>.] - ETA: 0s - loss: 1.2511 - acc: 0.8216Epoch 00037: val_acc improved from 0.74937 to 0.76456, saving model to finetune_solution_best.h5\n",
      "1484/1484 [==============================] - 11s - loss: 1.2500 - acc: 0.8221 - val_loss: 1.9485 - val_acc: 0.7646\n",
      "Epoch 39/100\n",
      "1480/1484 [============================>.] - ETA: 0s - loss: 1.1726 - acc: 0.8541Epoch 00038: val_acc did not improve\n",
      "1484/1484 [==============================] - 11s - loss: 1.1734 - acc: 0.8538 - val_loss: 1.9395 - val_acc: 0.7494\n",
      "Epoch 40/100\n",
      "1480/1484 [============================>.] - ETA: 0s - loss: 1.1455 - acc: 0.8277Epoch 00039: val_acc improved from 0.76456 to 0.77468, saving model to finetune_solution_best.h5\n",
      "1484/1484 [==============================] - 11s - loss: 1.1465 - acc: 0.8275 - val_loss: 1.8654 - val_acc: 0.7747\n",
      "Epoch 41/100\n",
      "1480/1484 [============================>.] - ETA: 0s - loss: 1.0965 - acc: 0.8534Epoch 00040: val_acc did not improve\n",
      "1484/1484 [==============================] - 10s - loss: 1.0977 - acc: 0.8531 - val_loss: 1.8257 - val_acc: 0.7696\n",
      "Epoch 42/100\n",
      "1480/1484 [============================>.] - ETA: 0s - loss: 1.0843 - acc: 0.8588Epoch 00041: val_acc improved from 0.77468 to 0.77468, saving model to finetune_solution_best.h5\n",
      "1484/1484 [==============================] - 11s - loss: 1.0827 - acc: 0.8592 - val_loss: 1.8183 - val_acc: 0.7747\n",
      "Epoch 43/100\n",
      "1480/1484 [============================>.] - ETA: 0s - loss: 1.0097 - acc: 0.8716Epoch 00042: val_acc improved from 0.77468 to 0.78734, saving model to finetune_solution_best.h5\n",
      "1484/1484 [==============================] - 11s - loss: 1.0128 - acc: 0.8713 - val_loss: 1.7680 - val_acc: 0.7873\n",
      "Epoch 44/100\n",
      "1480/1484 [============================>.] - ETA: 0s - loss: 0.9519 - acc: 0.8757Epoch 00043: val_acc did not improve\n",
      "1484/1484 [==============================] - 10s - loss: 0.9512 - acc: 0.8760 - val_loss: 1.7490 - val_acc: 0.7722\n",
      "Epoch 45/100\n",
      "1480/1484 [============================>.] - ETA: 0s - loss: 0.9257 - acc: 0.8797Epoch 00044: val_acc did not improve\n",
      "1484/1484 [==============================] - 10s - loss: 0.9246 - acc: 0.8801 - val_loss: 1.7147 - val_acc: 0.7747\n",
      "Epoch 46/100\n",
      "1480/1484 [============================>.] - ETA: 0s - loss: 0.8883 - acc: 0.8939Epoch 00045: val_acc improved from 0.78734 to 0.79241, saving model to finetune_solution_best.h5\n",
      "1484/1484 [==============================] - 11s - loss: 0.8889 - acc: 0.8929 - val_loss: 1.6860 - val_acc: 0.7924\n",
      "Epoch 47/100\n",
      "1480/1484 [============================>.] - ETA: 0s - loss: 0.8732 - acc: 0.9041Epoch 00046: val_acc did not improve\n",
      "1484/1484 [==============================] - 10s - loss: 0.8741 - acc: 0.9036 - val_loss: 1.6534 - val_acc: 0.7797\n",
      "Epoch 48/100\n",
      "1480/1484 [============================>.] - ETA: 0s - loss: 0.8423 - acc: 0.8939Epoch 00047: val_acc did not improve\n",
      "1484/1484 [==============================] - 10s - loss: 0.8430 - acc: 0.8935 - val_loss: 1.6390 - val_acc: 0.7924\n",
      "Epoch 49/100\n",
      "1480/1484 [============================>.] - ETA: 0s - loss: 0.7649 - acc: 0.9176Epoch 00048: val_acc improved from 0.79241 to 0.80000, saving model to finetune_solution_best.h5\n",
      "1484/1484 [==============================] - 11s - loss: 0.7647 - acc: 0.9178 - val_loss: 1.5993 - val_acc: 0.8000\n",
      "Epoch 50/100\n",
      "1480/1484 [============================>.] - ETA: 0s - loss: 0.7360 - acc: 0.9189Epoch 00049: val_acc did not improve\n",
      "1484/1484 [==============================] - 10s - loss: 0.7353 - acc: 0.9191 - val_loss: 1.5719 - val_acc: 0.7924\n",
      "Epoch 51/100\n",
      "1480/1484 [============================>.] - ETA: 0s - loss: 0.7472 - acc: 0.9182Epoch 00050: val_acc did not improve\n",
      "1484/1484 [==============================] - 10s - loss: 0.7479 - acc: 0.9185 - val_loss: 1.5691 - val_acc: 0.7722\n",
      "Epoch 52/100\n",
      "1480/1484 [============================>.] - ETA: 0s - loss: 0.7107 - acc: 0.9297Epoch 00051: val_acc did not improve\n",
      "1484/1484 [==============================] - 10s - loss: 0.7111 - acc: 0.9286 - val_loss: 1.5379 - val_acc: 0.7924\n",
      "Epoch 53/100\n",
      "1480/1484 [============================>.] - ETA: 0s - loss: 0.6832 - acc: 0.9284Epoch 00052: val_acc improved from 0.80000 to 0.80759, saving model to finetune_solution_best.h5\n",
      "1484/1484 [==============================] - 11s - loss: 0.6822 - acc: 0.9286 - val_loss: 1.5153 - val_acc: 0.8076\n",
      "Epoch 54/100\n",
      "1480/1484 [============================>.] - ETA: 0s - loss: 0.6920 - acc: 0.9223Epoch 00053: val_acc did not improve\n",
      "1484/1484 [==============================] - 10s - loss: 0.6931 - acc: 0.9218 - val_loss: 1.5243 - val_acc: 0.7975\n",
      "Epoch 55/100\n",
      "1480/1484 [============================>.] - ETA: 0s - loss: 0.6227 - acc: 0.9405Epoch 00054: val_acc did not improve\n",
      "1484/1484 [==============================] - 10s - loss: 0.6242 - acc: 0.9400 - val_loss: 1.4884 - val_acc: 0.7949\n",
      "Epoch 56/100\n",
      "1480/1484 [============================>.] - ETA: 0s - loss: 0.6076 - acc: 0.9439Epoch 00055: val_acc did not improve\n",
      "1484/1484 [==============================] - 10s - loss: 0.6073 - acc: 0.9441 - val_loss: 1.4747 - val_acc: 0.7924\n",
      "Epoch 57/100\n",
      "1480/1484 [============================>.] - ETA: 0s - loss: 0.6098 - acc: 0.9439Epoch 00056: val_acc improved from 0.80759 to 0.81519, saving model to finetune_solution_best.h5\n",
      "1484/1484 [==============================] - 11s - loss: 0.6096 - acc: 0.9441 - val_loss: 1.4480 - val_acc: 0.8152\n",
      "Epoch 58/100\n",
      "1480/1484 [============================>.] - ETA: 0s - loss: 0.5896 - acc: 0.9439Epoch 00057: val_acc did not improve\n",
      "1484/1484 [==============================] - 10s - loss: 0.5885 - acc: 0.9441 - val_loss: 1.4316 - val_acc: 0.8101\n",
      "Epoch 59/100\n"
     ]
    },
    {
     "name": "stdout",
     "output_type": "stream",
     "text": [
      "1480/1484 [============================>.] - ETA: 0s - loss: 0.5685 - acc: 0.9419Epoch 00058: val_acc did not improve\n",
      "1484/1484 [==============================] - 11s - loss: 0.5677 - acc: 0.9420 - val_loss: 1.4252 - val_acc: 0.8076\n",
      "Epoch 60/100\n",
      "1480/1484 [============================>.] - ETA: 0s - loss: 0.5443 - acc: 0.9547Epoch 00059: val_acc did not improve\n",
      "1484/1484 [==============================] - 11s - loss: 0.5448 - acc: 0.9549 - val_loss: 1.4023 - val_acc: 0.8076\n",
      "Epoch 61/100\n",
      "1480/1484 [============================>.] - ETA: 0s - loss: 0.5235 - acc: 0.9520Epoch 00060: val_acc did not improve\n",
      "1484/1484 [==============================] - 11s - loss: 0.5246 - acc: 0.9522 - val_loss: 1.3913 - val_acc: 0.7975\n",
      "Epoch 62/100\n",
      "1480/1484 [============================>.] - ETA: 0s - loss: 0.4944 - acc: 0.9534Epoch 00061: val_acc improved from 0.81519 to 0.81772, saving model to finetune_solution_best.h5\n",
      "1484/1484 [==============================] - 11s - loss: 0.4949 - acc: 0.9535 - val_loss: 1.3797 - val_acc: 0.8177\n",
      "Epoch 63/100\n",
      "1480/1484 [============================>.] - ETA: 0s - loss: 0.5048 - acc: 0.9561Epoch 00062: val_acc did not improve\n",
      "1484/1484 [==============================] - 11s - loss: 0.5051 - acc: 0.9562 - val_loss: 1.3667 - val_acc: 0.8127\n",
      "Epoch 64/100\n",
      "1480/1484 [============================>.] - ETA: 0s - loss: 0.4725 - acc: 0.9480Epoch 00063: val_acc did not improve\n",
      "1484/1484 [==============================] - 10s - loss: 0.4732 - acc: 0.9481 - val_loss: 1.3556 - val_acc: 0.8101\n",
      "Epoch 65/100\n",
      "1480/1484 [============================>.] - ETA: 0s - loss: 0.4647 - acc: 0.9649Epoch 00064: val_acc did not improve\n",
      "1484/1484 [==============================] - 10s - loss: 0.4652 - acc: 0.9650 - val_loss: 1.3332 - val_acc: 0.8101\n",
      "Epoch 66/100\n",
      "1480/1484 [============================>.] - ETA: 0s - loss: 0.4676 - acc: 0.9628Epoch 00065: val_acc did not improve\n",
      "1484/1484 [==============================] - 10s - loss: 0.4676 - acc: 0.9629 - val_loss: 1.3306 - val_acc: 0.8101\n",
      "Epoch 67/100\n",
      "1480/1484 [============================>.] - ETA: 0s - loss: 0.4343 - acc: 0.9703Epoch 00066: val_acc did not improve\n",
      "1484/1484 [==============================] - 10s - loss: 0.4336 - acc: 0.9704 - val_loss: 1.3175 - val_acc: 0.8025\n",
      "Epoch 68/100\n",
      "1480/1484 [============================>.] - ETA: 0s - loss: 0.4329 - acc: 0.9696Epoch 00067: val_acc improved from 0.81772 to 0.81772, saving model to finetune_solution_best.h5\n",
      "1484/1484 [==============================] - 11s - loss: 0.4331 - acc: 0.9697 - val_loss: 1.3085 - val_acc: 0.8177\n",
      "Epoch 69/100\n",
      "1480/1484 [============================>.] - ETA: 0s - loss: 0.4173 - acc: 0.9703Epoch 00068: val_acc did not improve\n",
      "1484/1484 [==============================] - 10s - loss: 0.4170 - acc: 0.9704 - val_loss: 1.2846 - val_acc: 0.8152\n",
      "Epoch 70/100\n",
      "1480/1484 [============================>.] - ETA: 0s - loss: 0.3854 - acc: 0.9764Epoch 00069: val_acc did not improve\n",
      "1484/1484 [==============================] - 10s - loss: 0.3854 - acc: 0.9764 - val_loss: 1.2914 - val_acc: 0.8101\n",
      "Epoch 71/100\n",
      "1480/1484 [============================>.] - ETA: 0s - loss: 0.3897 - acc: 0.9730Epoch 00070: val_acc did not improve\n",
      "1484/1484 [==============================] - 10s - loss: 0.3890 - acc: 0.9730 - val_loss: 1.2876 - val_acc: 0.8076\n",
      "Epoch 72/100\n",
      "1480/1484 [============================>.] - ETA: 0s - loss: 0.3866 - acc: 0.9757Epoch 00071: val_acc did not improve\n",
      "1484/1484 [==============================] - 10s - loss: 0.3866 - acc: 0.9757 - val_loss: 1.2735 - val_acc: 0.8127\n",
      "Epoch 73/100\n",
      "1480/1484 [============================>.] - ETA: 0s - loss: 0.3647 - acc: 0.9703Epoch 00072: val_acc improved from 0.81772 to 0.82278, saving model to finetune_solution_best.h5\n",
      "1484/1484 [==============================] - 11s - loss: 0.3646 - acc: 0.9704 - val_loss: 1.2625 - val_acc: 0.8228\n",
      "Epoch 74/100\n",
      "1480/1484 [============================>.] - ETA: 0s - loss: 0.3680 - acc: 0.9770Epoch 00073: val_acc did not improve\n",
      "1484/1484 [==============================] - 10s - loss: 0.3679 - acc: 0.9771 - val_loss: 1.2498 - val_acc: 0.8177\n",
      "Epoch 75/100\n",
      "1480/1484 [============================>.] - ETA: 0s - loss: 0.3543 - acc: 0.9736Epoch 00074: val_acc did not improve\n",
      "1484/1484 [==============================] - 10s - loss: 0.3553 - acc: 0.9730 - val_loss: 1.2432 - val_acc: 0.8177\n",
      "Epoch 76/100\n",
      "1480/1484 [============================>.] - ETA: 0s - loss: 0.3286 - acc: 0.9797Epoch 00075: val_acc did not improve\n",
      "1484/1484 [==============================] - 10s - loss: 0.3281 - acc: 0.9798 - val_loss: 1.2220 - val_acc: 0.8177\n",
      "Epoch 77/100\n",
      "1480/1484 [============================>.] - ETA: 0s - loss: 0.3343 - acc: 0.9811Epoch 00076: val_acc improved from 0.82278 to 0.82278, saving model to finetune_solution_best.h5\n",
      "1484/1484 [==============================] - 11s - loss: 0.3339 - acc: 0.9811 - val_loss: 1.2236 - val_acc: 0.8228\n",
      "Epoch 78/100\n",
      "1480/1484 [============================>.] - ETA: 0s - loss: 0.3306 - acc: 0.9764Epoch 00077: val_acc improved from 0.82278 to 0.82532, saving model to finetune_solution_best.h5\n",
      "1484/1484 [==============================] - 11s - loss: 0.3310 - acc: 0.9764 - val_loss: 1.2053 - val_acc: 0.8253\n",
      "Epoch 79/100\n",
      "1480/1484 [============================>.] - ETA: 0s - loss: 0.3215 - acc: 0.9804Epoch 00078: val_acc did not improve\n",
      "1484/1484 [==============================] - 10s - loss: 0.3210 - acc: 0.9805 - val_loss: 1.2181 - val_acc: 0.8127\n",
      "Epoch 80/100\n",
      "1480/1484 [============================>.] - ETA: 0s - loss: 0.3250 - acc: 0.9831Epoch 00079: val_acc did not improve\n",
      "1484/1484 [==============================] - 10s - loss: 0.3243 - acc: 0.9832 - val_loss: 1.2088 - val_acc: 0.8203\n",
      "Epoch 81/100\n",
      "1480/1484 [============================>.] - ETA: 0s - loss: 0.3127 - acc: 0.9818Epoch 00080: val_acc improved from 0.82532 to 0.83038, saving model to finetune_solution_best.h5\n",
      "1484/1484 [==============================] - 11s - loss: 0.3121 - acc: 0.9818 - val_loss: 1.1925 - val_acc: 0.8304\n",
      "Epoch 82/100\n",
      "1480/1484 [============================>.] - ETA: 0s - loss: 0.3158 - acc: 0.9757Epoch 00081: val_acc did not improve\n",
      "1484/1484 [==============================] - 10s - loss: 0.3151 - acc: 0.9757 - val_loss: 1.1873 - val_acc: 0.8278\n",
      "Epoch 83/100\n",
      "1480/1484 [============================>.] - ETA: 0s - loss: 0.2874 - acc: 0.9838Epoch 00082: val_acc did not improve\n",
      "1484/1484 [==============================] - 11s - loss: 0.2870 - acc: 0.9838 - val_loss: 1.1884 - val_acc: 0.8127\n",
      "Epoch 84/100\n",
      "1480/1484 [============================>.] - ETA: 0s - loss: 0.3008 - acc: 0.9764Epoch 00083: val_acc did not improve\n",
      "1484/1484 [==============================] - 10s - loss: 0.3009 - acc: 0.9764 - val_loss: 1.1775 - val_acc: 0.8152\n",
      "Epoch 85/100\n",
      "1480/1484 [============================>.] - ETA: 0s - loss: 0.2788 - acc: 0.9845Epoch 00084: val_acc did not improve\n",
      "1484/1484 [==============================] - 10s - loss: 0.2782 - acc: 0.9845 - val_loss: 1.1714 - val_acc: 0.8101\n",
      "Epoch 86/100\n",
      "1480/1484 [============================>.] - ETA: 0s - loss: 0.2826 - acc: 0.9797Epoch 00085: val_acc did not improve\n",
      "1484/1484 [==============================] - 10s - loss: 0.2824 - acc: 0.9798 - val_loss: 1.1549 - val_acc: 0.8228\n",
      "Epoch 87/100\n",
      "1480/1484 [============================>.] - ETA: 0s - loss: 0.2657 - acc: 0.9838Epoch 00086: val_acc did not improve\n",
      "1484/1484 [==============================] - 10s - loss: 0.2663 - acc: 0.9838 - val_loss: 1.1574 - val_acc: 0.8304\n",
      "Epoch 00086: early stopping\n"
     ]
    }
   ],
   "source": [
    "model.compile(loss='categorical_crossentropy', optimizer=SGD(lr=1e-4, momentum=0.9), metrics=['accuracy'])\n",
    "\n",
    "# Model saving callback\n",
    "checkpointer = ModelCheckpoint(filepath='finetune_solution_best.h5', monitor='val_acc', verbose=1, save_best_only=True)\n",
    "\n",
    "# Early stopping\n",
    "early_stopping = EarlyStopping(monitor='val_acc', verbose=1, patience=5)\n",
    "\n",
    "history = model.fit(train_X,\n",
    "    train_y,\n",
    "    epochs=epochs,\n",
    "    callbacks=[checkpointer, early_stopping],\n",
    "    batch_size=10,\n",
    "    validation_data=(valid_X, valid_y))"
   ]
  },
  {
   "cell_type": "markdown",
   "metadata": {},
   "source": [
    "### Plot the refinement result"
   ]
  },
  {
   "cell_type": "code",
   "execution_count": 9,
   "metadata": {},
   "outputs": [
    {
     "data": {
      "image/png": "[encoded data removed]",
      "text/plain": [
       "<matplotlib.figure.Figure at 0x1c4485ae898>"
      ]
     },
     "metadata": {},
     "output_type": "display_data"
    }
   ],
   "source": [
    "fig, ax = plt.subplots()\n",
    "plt.plot(history.history['acc'])\n",
    "plt.plot(history.history['val_acc'])\n",
    "plt.title('Model accuracy')\n",
    "plt.ylabel('Accuracy')\n",
    "plt.xlabel('Epoch')\n",
    "plt.legend(['Train', 'Valid'], loc='upper left')\n",
    "plt.show()"
   ]
  },
  {
   "cell_type": "markdown",
   "metadata": {},
   "source": [
    "## Evaluate on test dataset"
   ]
  },
  {
   "cell_type": "code",
   "execution_count": 10,
   "metadata": {},
   "outputs": [
    {
     "name": "stdout",
     "output_type": "stream",
     "text": [
      "149/149 [==============================] - 0s\n"
     ]
    },
    {
     "data": {
      "text/plain": [
       "[1.9530375003814697, 0.65100675821304321]"
      ]
     },
     "execution_count": 10,
     "metadata": {},
     "output_type": "execute_result"
    }
   ],
   "source": [
    "# Evaluate the init solution with test data\n",
    "model.load_weights('solution_best.h5')\n",
    "model.evaluate(test_X, test_y, 149)"
   ]
  },
  {
   "cell_type": "code",
   "execution_count": 11,
   "metadata": {},
   "outputs": [
    {
     "name": "stdout",
     "output_type": "stream",
     "text": [
      "149/149 [==============================] - 0s\n"
     ]
    },
    {
     "data": {
      "text/plain": [
       "[1.2717722654342651, 0.83221477270126343]"
      ]
     },
     "execution_count": 11,
     "metadata": {},
     "output_type": "execute_result"
    }
   ],
   "source": [
    "# Evaluate the final solution with test data\n",
    "model.load_weights('finetune_solution_best.h5')\n",
    "model.evaluate(test_X, test_y, 149)"
   ]
  },
  {
   "cell_type": "markdown",
   "metadata": {},
   "source": [
    "## Validate the robustness"
   ]
  },
  {
   "cell_type": "code",
   "execution_count": 12,
   "metadata": {},
   "outputs": [
    {
     "name": "stdout",
     "output_type": "stream",
     "text": [
      "Found 1484 images belonging to 149 classes.\n"
     ]
    }
   ],
   "source": [
    "# Generate data augmentation to check the robustness of the final model\n",
    "augmented_datagen = ImageDataGenerator(\n",
    "        rescale=1. / 255,      # Normalize pixel values to [0,1]\n",
    "        shear_range=0.2,       # Randomly applies shearing transformation\n",
    "        zoom_range=0.2,        # Randomly applies shearing transformation\n",
    "        horizontal_flip=True)  # Randomly flip the images\n",
    "\n",
    "# Retrieve images and their classes for train and validation sets\n",
    "train_gen = augmented_datagen.flow_from_directory(\n",
    "        train_dir,\n",
    "        target_size=(img_width, img_height),\n",
    "        batch_size=1,\n",
    "        class_mode=None,\n",
    "        shuffle=False)\n",
    "\n",
    "model_vgg = applications.VGG16(include_top=False, weights='imagenet')\n",
    "\n",
    "bottleneck_features_train = model_vgg.predict_generator(train_gen, nb_train_samples)\n",
    "np.save(open('data/augmented_bottleneck_features_train.npy', 'wb'), bottleneck_features_train)"
   ]
  },
  {
   "cell_type": "code",
   "execution_count": 19,
   "metadata": {},
   "outputs": [
    {
     "name": "stdout",
     "output_type": "stream",
     "text": [
      "Train on 1484 samples, validate on 395 samples\n",
      "Epoch 1/100\n",
      "1480/1484 [============================>.] - ETA: 0s - loss: 5.1437 - acc: 0.0088Epoch 00000: val_acc improved from -inf to 0.01013, saving model to finetune_augmented_solution_best.h5\n",
      "1484/1484 [==============================] - 11s - loss: 5.1428 - acc: 0.0088 - val_loss: 4.9644 - val_acc: 0.0101\n",
      "Epoch 2/100\n",
      "1480/1484 [============================>.] - ETA: 0s - loss: 4.9799 - acc: 0.0095Epoch 00001: val_acc improved from 0.01013 to 0.01519, saving model to finetune_augmented_solution_best.h5\n",
      "1484/1484 [==============================] - 11s - loss: 4.9800 - acc: 0.0094 - val_loss: 4.9512 - val_acc: 0.0152\n",
      "Epoch 3/100\n",
      "1480/1484 [============================>.] - ETA: 0s - loss: 4.9455 - acc: 0.0142Epoch 00002: val_acc improved from 0.01519 to 0.03038, saving model to finetune_augmented_solution_best.h5\n",
      "1484/1484 [==============================] - 11s - loss: 4.9454 - acc: 0.0142 - val_loss: 4.9194 - val_acc: 0.0304\n",
      "Epoch 4/100\n",
      "1480/1484 [============================>.] - ETA: 0s - loss: 4.9030 - acc: 0.0230Epoch 00003: val_acc did not improve\n",
      "1484/1484 [==============================] - 10s - loss: 4.9037 - acc: 0.0229 - val_loss: 4.8986 - val_acc: 0.0278\n",
      "Epoch 5/100\n",
      "1480/1484 [============================>.] - ETA: 0s - loss: 4.8582 - acc: 0.0270Epoch 00004: val_acc improved from 0.03038 to 0.03544, saving model to finetune_augmented_solution_best.h5\n",
      "1484/1484 [==============================] - 11s - loss: 4.8596 - acc: 0.0270 - val_loss: 4.8609 - val_acc: 0.0354\n",
      "Epoch 6/100\n",
      "1480/1484 [============================>.] - ETA: 0s - loss: 4.8150 - acc: 0.0324Epoch 00005: val_acc improved from 0.03544 to 0.05063, saving model to finetune_augmented_solution_best.h5\n",
      "1484/1484 [==============================] - 11s - loss: 4.8143 - acc: 0.0330 - val_loss: 4.7936 - val_acc: 0.0506\n",
      "Epoch 7/100\n",
      "1480/1484 [============================>.] - ETA: 0s - loss: 4.7580 - acc: 0.0405Epoch 00006: val_acc improved from 0.05063 to 0.05823, saving model to finetune_augmented_solution_best.h5\n",
      "1484/1484 [==============================] - 11s - loss: 4.7584 - acc: 0.0404 - val_loss: 4.7473 - val_acc: 0.0582\n",
      "Epoch 8/100\n",
      "1480/1484 [============================>.] - ETA: 0s - loss: 4.6785 - acc: 0.0581Epoch 00007: val_acc did not improve\n",
      "1484/1484 [==============================] - 10s - loss: 4.6779 - acc: 0.0580 - val_loss: 4.6891 - val_acc: 0.0506\n",
      "Epoch 9/100\n",
      "1480/1484 [============================>.] - ETA: 0s - loss: 4.6000 - acc: 0.0703Epoch 00008: val_acc improved from 0.05823 to 0.07089, saving model to finetune_augmented_solution_best.h5\n",
      "1484/1484 [==============================] - 11s - loss: 4.6015 - acc: 0.0701 - val_loss: 4.6263 - val_acc: 0.0709\n",
      "Epoch 10/100\n",
      "1480/1484 [============================>.] - ETA: 0s - loss: 4.5175 - acc: 0.0696Epoch 00009: val_acc improved from 0.07089 to 0.08861, saving model to finetune_augmented_solution_best.h5\n",
      "1484/1484 [==============================] - 11s - loss: 4.5191 - acc: 0.0694 - val_loss: 4.5700 - val_acc: 0.0886\n",
      "Epoch 11/100\n",
      "1480/1484 [============================>.] - ETA: 0s - loss: 4.4576 - acc: 0.0703Epoch 00010: val_acc improved from 0.08861 to 0.12911, saving model to finetune_augmented_solution_best.h5\n",
      "1484/1484 [==============================] - 11s - loss: 4.4574 - acc: 0.0701 - val_loss: 4.4746 - val_acc: 0.1291\n",
      "Epoch 12/100\n",
      "1480/1484 [============================>.] - ETA: 0s - loss: 4.3263 - acc: 0.1007Epoch 00011: val_acc improved from 0.12911 to 0.14684, saving model to finetune_augmented_solution_best.h5\n",
      "1484/1484 [==============================] - 11s - loss: 4.3256 - acc: 0.1004 - val_loss: 4.3991 - val_acc: 0.1468\n",
      "Epoch 13/100\n",
      "1480/1484 [============================>.] - ETA: 0s - loss: 4.2509 - acc: 0.1155Epoch 00012: val_acc improved from 0.14684 to 0.16456, saving model to finetune_augmented_solution_best.h5\n",
      "1484/1484 [==============================] - 11s - loss: 4.2526 - acc: 0.1152 - val_loss: 4.3445 - val_acc: 0.1646\n",
      "Epoch 14/100\n",
      "1480/1484 [============================>.] - ETA: 0s - loss: 4.1268 - acc: 0.1480Epoch 00013: val_acc improved from 0.16456 to 0.19747, saving model to finetune_augmented_solution_best.h5\n",
      "1484/1484 [==============================] - 11s - loss: 4.1276 - acc: 0.1476 - val_loss: 4.2636 - val_acc: 0.1975\n",
      "Epoch 15/100\n",
      "1480/1484 [============================>.] - ETA: 0s - loss: 4.0301 - acc: 0.1703Epoch 00014: val_acc did not improve\n",
      "1484/1484 [==============================] - 10s - loss: 4.0291 - acc: 0.1698 - val_loss: 4.1657 - val_acc: 0.1671\n",
      "Epoch 16/100\n",
      "1480/1484 [============================>.] - ETA: 0s - loss: 3.9124 - acc: 0.1892Epoch 00015: val_acc improved from 0.19747 to 0.22532, saving model to finetune_augmented_solution_best.h5\n",
      "1484/1484 [==============================] - 11s - loss: 3.9135 - acc: 0.1887 - val_loss: 4.0854 - val_acc: 0.2253\n",
      "Epoch 17/100\n",
      "1480/1484 [============================>.] - ETA: 0s - loss: 3.7645 - acc: 0.2318Epoch 00016: val_acc improved from 0.22532 to 0.28354, saving model to finetune_augmented_solution_best.h5\n",
      "1484/1484 [==============================] - 11s - loss: 3.7632 - acc: 0.2318 - val_loss: 3.9797 - val_acc: 0.2835\n",
      "Epoch 18/100\n",
      "1480/1484 [============================>.] - ETA: 0s - loss: 3.6874 - acc: 0.2446Epoch 00017: val_acc improved from 0.28354 to 0.32152, saving model to finetune_augmented_solution_best.h5\n",
      "1484/1484 [==============================] - 11s - loss: 3.6869 - acc: 0.2446 - val_loss: 3.9235 - val_acc: 0.3215\n",
      "Epoch 19/100\n",
      "1480/1484 [============================>.] - ETA: 0s - loss: 3.5697 - acc: 0.2784Epoch 00018: val_acc improved from 0.32152 to 0.35696, saving model to finetune_augmented_solution_best.h5\n",
      "1484/1484 [==============================] - 11s - loss: 3.5692 - acc: 0.2790 - val_loss: 3.8001 - val_acc: 0.3570\n",
      "Epoch 20/100\n",
      "1480/1484 [============================>.] - ETA: 0s - loss: 3.4587 - acc: 0.3007Epoch 00019: val_acc improved from 0.35696 to 0.37975, saving model to finetune_augmented_solution_best.h5\n",
      "1484/1484 [==============================] - 11s - loss: 3.4571 - acc: 0.3012 - val_loss: 3.7382 - val_acc: 0.3797\n",
      "Epoch 21/100\n",
      "1480/1484 [============================>.] - ETA: 0s - loss: 3.3282 - acc: 0.3358Epoch 00020: val_acc improved from 0.37975 to 0.41519, saving model to finetune_augmented_solution_best.h5\n",
      "1484/1484 [==============================] - 11s - loss: 3.3295 - acc: 0.3349 - val_loss: 3.6532 - val_acc: 0.4152\n",
      "Epoch 22/100\n",
      "1480/1484 [============================>.] - ETA: 0s - loss: 3.2277 - acc: 0.3500Epoch 00021: val_acc did not improve\n",
      "1484/1484 [==============================] - 10s - loss: 3.2278 - acc: 0.3504 - val_loss: 3.5514 - val_acc: 0.4051\n",
      "Epoch 23/100\n",
      "1480/1484 [============================>.] - ETA: 0s - loss: 3.1301 - acc: 0.3845Epoch 00022: val_acc improved from 0.41519 to 0.43291, saving model to finetune_augmented_solution_best.h5\n",
      "1484/1484 [==============================] - 11s - loss: 3.1263 - acc: 0.3854 - val_loss: 3.4702 - val_acc: 0.4329\n",
      "Epoch 24/100\n",
      "1480/1484 [============================>.] - ETA: 0s - loss: 2.9851 - acc: 0.4020Epoch 00023: val_acc improved from 0.43291 to 0.46076, saving model to finetune_augmented_solution_best.h5\n",
      "1484/1484 [==============================] - 11s - loss: 2.9834 - acc: 0.4023 - val_loss: 3.3712 - val_acc: 0.4608\n",
      "Epoch 25/100\n",
      "1480/1484 [============================>.] - ETA: 0s - loss: 2.8944 - acc: 0.4405Epoch 00024: val_acc improved from 0.46076 to 0.48101, saving model to finetune_augmented_solution_best.h5\n",
      "1484/1484 [==============================] - 11s - loss: 2.8937 - acc: 0.4407 - val_loss: 3.3272 - val_acc: 0.4810\n",
      "Epoch 26/100\n",
      "1480/1484 [============================>.] - ETA: 0s - loss: 2.7931 - acc: 0.4716Epoch 00025: val_acc improved from 0.48101 to 0.49114, saving model to finetune_augmented_solution_best.h5\n",
      "1484/1484 [==============================] - 11s - loss: 2.7920 - acc: 0.4724 - val_loss: 3.2232 - val_acc: 0.4911\n",
      "Epoch 27/100\n",
      "1480/1484 [============================>.] - ETA: 0s - loss: 2.6484 - acc: 0.4905Epoch 00026: val_acc improved from 0.49114 to 0.52911, saving model to finetune_augmented_solution_best.h5\n"
     ]
    },
    {
     "name": "stdout",
     "output_type": "stream",
     "text": [
      "1484/1484 [==============================] - 11s - loss: 2.6460 - acc: 0.4912 - val_loss: 3.1455 - val_acc: 0.5291\n",
      "Epoch 28/100\n",
      "1480/1484 [============================>.] - ETA: 0s - loss: 2.5530 - acc: 0.5257Epoch 00027: val_acc did not improve\n",
      "1484/1484 [==============================] - 10s - loss: 2.5503 - acc: 0.5270 - val_loss: 3.0730 - val_acc: 0.5139\n",
      "Epoch 29/100\n",
      "1480/1484 [============================>.] - ETA: 0s - loss: 2.4758 - acc: 0.5432Epoch 00028: val_acc improved from 0.52911 to 0.55696, saving model to finetune_augmented_solution_best.h5\n",
      "1484/1484 [==============================] - 11s - loss: 2.4768 - acc: 0.5431 - val_loss: 3.0230 - val_acc: 0.5570\n",
      "Epoch 30/100\n",
      "1480/1484 [============================>.] - ETA: 0s - loss: 2.3653 - acc: 0.5392Epoch 00029: val_acc did not improve\n",
      "1484/1484 [==============================] - 10s - loss: 2.3672 - acc: 0.5391 - val_loss: 2.9708 - val_acc: 0.5215\n",
      "Epoch 31/100\n",
      "1480/1484 [============================>.] - ETA: 0s - loss: 2.2621 - acc: 0.5784Epoch 00030: val_acc improved from 0.55696 to 0.57468, saving model to finetune_augmented_solution_best.h5\n",
      "1484/1484 [==============================] - 11s - loss: 2.2616 - acc: 0.5782 - val_loss: 2.8847 - val_acc: 0.5747\n",
      "Epoch 32/100\n",
      "1480/1484 [============================>.] - ETA: 0s - loss: 2.1970 - acc: 0.6000Epoch 00031: val_acc did not improve\n",
      "1484/1484 [==============================] - 11s - loss: 2.1959 - acc: 0.6011 - val_loss: 2.8062 - val_acc: 0.5722\n",
      "Epoch 33/100\n",
      "1480/1484 [============================>.] - ETA: 0s - loss: 2.0971 - acc: 0.6122Epoch 00032: val_acc improved from 0.57468 to 0.62025, saving model to finetune_augmented_solution_best.h5\n",
      "1484/1484 [==============================] - 11s - loss: 2.0968 - acc: 0.6132 - val_loss: 2.7330 - val_acc: 0.6203\n",
      "Epoch 34/100\n",
      "1480/1484 [============================>.] - ETA: 0s - loss: 2.0190 - acc: 0.6365Epoch 00033: val_acc did not improve\n",
      "1484/1484 [==============================] - 10s - loss: 2.0191 - acc: 0.6361 - val_loss: 2.6730 - val_acc: 0.5797\n",
      "Epoch 35/100\n",
      "1480/1484 [============================>.] - ETA: 0s - loss: 1.9238 - acc: 0.6622Epoch 00034: val_acc did not improve\n",
      "1484/1484 [==============================] - 10s - loss: 1.9226 - acc: 0.6631 - val_loss: 2.6374 - val_acc: 0.6000\n",
      "Epoch 36/100\n",
      "1480/1484 [============================>.] - ETA: 0s - loss: 1.8695 - acc: 0.6689Epoch 00035: val_acc did not improve\n",
      "1484/1484 [==============================] - 11s - loss: 1.8688 - acc: 0.6685 - val_loss: 2.5833 - val_acc: 0.6152\n",
      "Epoch 37/100\n",
      "1480/1484 [============================>.] - ETA: 0s - loss: 1.7470 - acc: 0.7007Epoch 00036: val_acc did not improve\n",
      "1484/1484 [==============================] - 10s - loss: 1.7472 - acc: 0.7001 - val_loss: 2.5199 - val_acc: 0.6127\n",
      "Epoch 38/100\n",
      "1480/1484 [============================>.] - ETA: 0s - loss: 1.6907 - acc: 0.7277Epoch 00037: val_acc improved from 0.62025 to 0.63544, saving model to finetune_augmented_solution_best.h5\n",
      "1484/1484 [==============================] - 11s - loss: 1.6914 - acc: 0.7278 - val_loss: 2.4649 - val_acc: 0.6354\n",
      "Epoch 39/100\n",
      "1480/1484 [============================>.] - ETA: 0s - loss: 1.6531 - acc: 0.7169Epoch 00038: val_acc did not improve\n",
      "1484/1484 [==============================] - 10s - loss: 1.6527 - acc: 0.7163 - val_loss: 2.4406 - val_acc: 0.6177\n",
      "Epoch 40/100\n",
      "1480/1484 [============================>.] - ETA: 0s - loss: 1.5693 - acc: 0.7331Epoch 00039: val_acc improved from 0.63544 to 0.63544, saving model to finetune_augmented_solution_best.h5\n",
      "1484/1484 [==============================] - 11s - loss: 1.5685 - acc: 0.7332 - val_loss: 2.4102 - val_acc: 0.6354\n",
      "Epoch 41/100\n",
      "1480/1484 [============================>.] - ETA: 0s - loss: 1.5155 - acc: 0.7480Epoch 00040: val_acc improved from 0.63544 to 0.64810, saving model to finetune_augmented_solution_best.h5\n",
      "1484/1484 [==============================] - 11s - loss: 1.5145 - acc: 0.7480 - val_loss: 2.3673 - val_acc: 0.6481\n",
      "Epoch 42/100\n",
      "1480/1484 [============================>.] - ETA: 0s - loss: 1.4598 - acc: 0.7750Epoch 00041: val_acc improved from 0.64810 to 0.64810, saving model to finetune_augmented_solution_best.h5\n",
      "1484/1484 [==============================] - 11s - loss: 1.4588 - acc: 0.7756 - val_loss: 2.3076 - val_acc: 0.6481\n",
      "Epoch 43/100\n",
      "1480/1484 [============================>.] - ETA: 0s - loss: 1.4010 - acc: 0.7872Epoch 00042: val_acc did not improve\n",
      "1484/1484 [==============================] - 10s - loss: 1.4030 - acc: 0.7864 - val_loss: 2.2874 - val_acc: 0.6456\n",
      "Epoch 44/100\n",
      "1480/1484 [============================>.] - ETA: 0s - loss: 1.3166 - acc: 0.8014Epoch 00043: val_acc improved from 0.64810 to 0.67848, saving model to finetune_augmented_solution_best.h5\n",
      "1484/1484 [==============================] - 11s - loss: 1.3175 - acc: 0.8012 - val_loss: 2.2225 - val_acc: 0.6785\n",
      "Epoch 45/100\n",
      "1480/1484 [============================>.] - ETA: 0s - loss: 1.2996 - acc: 0.8000Epoch 00044: val_acc did not improve\n",
      "1484/1484 [==============================] - 10s - loss: 1.2994 - acc: 0.7999 - val_loss: 2.2037 - val_acc: 0.6557\n",
      "Epoch 46/100\n",
      "1480/1484 [============================>.] - ETA: 0s - loss: 1.2514 - acc: 0.8108Epoch 00045: val_acc improved from 0.67848 to 0.69367, saving model to finetune_augmented_solution_best.h5\n",
      "1484/1484 [==============================] - 11s - loss: 1.2501 - acc: 0.8113 - val_loss: 2.1526 - val_acc: 0.6937\n",
      "Epoch 47/100\n",
      "1480/1484 [============================>.] - ETA: 0s - loss: 1.1809 - acc: 0.8250Epoch 00046: val_acc did not improve\n",
      "1484/1484 [==============================] - 10s - loss: 1.1844 - acc: 0.8248 - val_loss: 2.1489 - val_acc: 0.6759\n",
      "Epoch 48/100\n",
      "1480/1484 [============================>.] - ETA: 0s - loss: 1.1622 - acc: 0.8351Epoch 00047: val_acc did not improve\n",
      "1484/1484 [==============================] - 10s - loss: 1.1635 - acc: 0.8342 - val_loss: 2.1077 - val_acc: 0.6886\n",
      "Epoch 49/100\n",
      "1480/1484 [============================>.] - ETA: 0s - loss: 1.1172 - acc: 0.8493Epoch 00048: val_acc did not improve\n",
      "1484/1484 [==============================] - 10s - loss: 1.1183 - acc: 0.8484 - val_loss: 2.0871 - val_acc: 0.6886\n",
      "Epoch 50/100\n",
      "1480/1484 [============================>.] - ETA: 0s - loss: 1.0695 - acc: 0.8649Epoch 00049: val_acc did not improve\n",
      "1484/1484 [==============================] - 10s - loss: 1.0682 - acc: 0.8652 - val_loss: 2.0443 - val_acc: 0.6709\n",
      "Epoch 51/100\n",
      "1480/1484 [============================>.] - ETA: 0s - loss: 0.9908 - acc: 0.8628Epoch 00050: val_acc did not improve\n",
      "1484/1484 [==============================] - 10s - loss: 0.9909 - acc: 0.8625 - val_loss: 2.0197 - val_acc: 0.6911\n",
      "Epoch 52/100\n",
      "1480/1484 [============================>.] - ETA: 0s - loss: 1.0003 - acc: 0.8574Epoch 00051: val_acc improved from 0.69367 to 0.69873, saving model to finetune_augmented_solution_best.h5\n",
      "1484/1484 [==============================] - 11s - loss: 1.0007 - acc: 0.8571 - val_loss: 2.0066 - val_acc: 0.6987\n",
      "Epoch 53/100\n",
      "1480/1484 [============================>.] - ETA: 0s - loss: 0.9712 - acc: 0.8696Epoch 00052: val_acc did not improve\n",
      "1484/1484 [==============================] - 10s - loss: 0.9712 - acc: 0.8699 - val_loss: 1.9895 - val_acc: 0.6962\n",
      "Epoch 54/100\n",
      "1480/1484 [============================>.] - ETA: 0s - loss: 0.9361 - acc: 0.8797Epoch 00053: val_acc did not improve\n",
      "1484/1484 [==============================] - 10s - loss: 0.9350 - acc: 0.8801 - val_loss: 1.9563 - val_acc: 0.6911\n",
      "Epoch 55/100\n",
      "1480/1484 [============================>.] - ETA: 0s - loss: 0.9094 - acc: 0.8899Epoch 00054: val_acc improved from 0.69873 to 0.70380, saving model to finetune_augmented_solution_best.h5\n",
      "1484/1484 [==============================] - 11s - loss: 0.9090 - acc: 0.8895 - val_loss: 1.9486 - val_acc: 0.7038\n",
      "Epoch 56/100\n",
      "1480/1484 [============================>.] - ETA: 0s - loss: 0.8817 - acc: 0.8993Epoch 00055: val_acc did not improve\n",
      "1484/1484 [==============================] - 10s - loss: 0.8818 - acc: 0.8996 - val_loss: 1.9192 - val_acc: 0.6987\n",
      "Epoch 57/100\n",
      "1480/1484 [============================>.] - ETA: 0s - loss: 0.8106 - acc: 0.9122Epoch 00056: val_acc did not improve\n"
     ]
    },
    {
     "name": "stdout",
     "output_type": "stream",
     "text": [
      "1484/1484 [==============================] - 10s - loss: 0.8100 - acc: 0.9124 - val_loss: 1.8897 - val_acc: 0.6962\n",
      "Epoch 58/100\n",
      "1480/1484 [============================>.] - ETA: 0s - loss: 0.8541 - acc: 0.8892Epoch 00057: val_acc improved from 0.70380 to 0.70886, saving model to finetune_augmented_solution_best.h5\n",
      "1484/1484 [==============================] - 11s - loss: 0.8555 - acc: 0.8888 - val_loss: 1.8765 - val_acc: 0.7089\n",
      "Epoch 59/100\n",
      "1480/1484 [============================>.] - ETA: 0s - loss: 0.7799 - acc: 0.9095Epoch 00058: val_acc improved from 0.70886 to 0.71392, saving model to finetune_augmented_solution_best.h5\n",
      "1484/1484 [==============================] - 11s - loss: 0.7801 - acc: 0.9097 - val_loss: 1.8552 - val_acc: 0.7139\n",
      "Epoch 60/100\n",
      "1480/1484 [============================>.] - ETA: 0s - loss: 0.7551 - acc: 0.9142Epoch 00059: val_acc did not improve\n",
      "1484/1484 [==============================] - 11s - loss: 0.7548 - acc: 0.9144 - val_loss: 1.8375 - val_acc: 0.7038\n",
      "Epoch 61/100\n",
      "1480/1484 [============================>.] - ETA: 0s - loss: 0.7388 - acc: 0.9081Epoch 00060: val_acc did not improve\n",
      "1484/1484 [==============================] - 10s - loss: 0.7390 - acc: 0.9084 - val_loss: 1.8197 - val_acc: 0.7089\n",
      "Epoch 62/100\n",
      "1480/1484 [============================>.] - ETA: 0s - loss: 0.7073 - acc: 0.9182Epoch 00061: val_acc improved from 0.71392 to 0.73165, saving model to finetune_augmented_solution_best.h5\n",
      "1484/1484 [==============================] - 11s - loss: 0.7081 - acc: 0.9185 - val_loss: 1.7974 - val_acc: 0.7316\n",
      "Epoch 63/100\n",
      "1480/1484 [============================>.] - ETA: 0s - loss: 0.6675 - acc: 0.9297Epoch 00062: val_acc did not improve\n",
      "1484/1484 [==============================] - 10s - loss: 0.6673 - acc: 0.9299 - val_loss: 1.7723 - val_acc: 0.7165\n",
      "Epoch 64/100\n",
      "1480/1484 [============================>.] - ETA: 0s - loss: 0.6707 - acc: 0.9209Epoch 00063: val_acc did not improve\n",
      "1484/1484 [==============================] - 10s - loss: 0.6696 - acc: 0.9212 - val_loss: 1.7648 - val_acc: 0.7089\n",
      "Epoch 65/100\n",
      "1480/1484 [============================>.] - ETA: 0s - loss: 0.6577 - acc: 0.9304Epoch 00064: val_acc did not improve\n",
      "1484/1484 [==============================] - 10s - loss: 0.6587 - acc: 0.9299 - val_loss: 1.7535 - val_acc: 0.7089\n",
      "Epoch 66/100\n",
      "1480/1484 [============================>.] - ETA: 0s - loss: 0.6336 - acc: 0.9358Epoch 00065: val_acc did not improve\n",
      "1484/1484 [==============================] - 10s - loss: 0.6335 - acc: 0.9360 - val_loss: 1.7328 - val_acc: 0.7089\n",
      "Epoch 67/100\n",
      "1480/1484 [============================>.] - ETA: 0s - loss: 0.6035 - acc: 0.9291Epoch 00066: val_acc did not improve\n",
      "1484/1484 [==============================] - 10s - loss: 0.6045 - acc: 0.9286 - val_loss: 1.7221 - val_acc: 0.7139\n",
      "Epoch 68/100\n",
      "1480/1484 [============================>.] - ETA: 0s - loss: 0.5918 - acc: 0.9432Epoch 00067: val_acc did not improve\n",
      "1484/1484 [==============================] - 10s - loss: 0.5932 - acc: 0.9427 - val_loss: 1.7131 - val_acc: 0.7139\n",
      "Epoch 69/100\n",
      "1480/1484 [============================>.] - ETA: 0s - loss: 0.5938 - acc: 0.9385Epoch 00068: val_acc improved from 0.73165 to 0.73418, saving model to finetune_augmented_solution_best.h5\n",
      "1484/1484 [==============================] - 11s - loss: 0.5929 - acc: 0.9387 - val_loss: 1.6886 - val_acc: 0.7342\n",
      "Epoch 70/100\n",
      "1480/1484 [============================>.] - ETA: 0s - loss: 0.5660 - acc: 0.9466Epoch 00069: val_acc improved from 0.73418 to 0.74177, saving model to finetune_augmented_solution_best.h5\n",
      "1484/1484 [==============================] - 11s - loss: 0.5670 - acc: 0.9468 - val_loss: 1.6782 - val_acc: 0.7418\n",
      "Epoch 71/100\n",
      "1480/1484 [============================>.] - ETA: 0s - loss: 0.5639 - acc: 0.9466Epoch 00070: val_acc did not improve\n",
      "1484/1484 [==============================] - 10s - loss: 0.5646 - acc: 0.9468 - val_loss: 1.6673 - val_acc: 0.7266\n",
      "Epoch 72/100\n",
      "1480/1484 [============================>.] - ETA: 0s - loss: 0.5520 - acc: 0.9453Epoch 00071: val_acc did not improve\n",
      "1484/1484 [==============================] - 10s - loss: 0.5515 - acc: 0.9454 - val_loss: 1.6667 - val_acc: 0.7266\n",
      "Epoch 73/100\n",
      "1480/1484 [============================>.] - ETA: 0s - loss: 0.5123 - acc: 0.9547Epoch 00072: val_acc did not improve\n",
      "1484/1484 [==============================] - 10s - loss: 0.5116 - acc: 0.9549 - val_loss: 1.6520 - val_acc: 0.7291\n",
      "Epoch 74/100\n",
      "1480/1484 [============================>.] - ETA: 0s - loss: 0.4932 - acc: 0.9574Epoch 00073: val_acc did not improve\n",
      "1484/1484 [==============================] - 10s - loss: 0.4930 - acc: 0.9575 - val_loss: 1.6348 - val_acc: 0.7291\n",
      "Epoch 75/100\n",
      "1480/1484 [============================>.] - ETA: 0s - loss: 0.4885 - acc: 0.9595Epoch 00074: val_acc improved from 0.74177 to 0.74430, saving model to finetune_augmented_solution_best.h5\n",
      "1484/1484 [==============================] - 11s - loss: 0.4876 - acc: 0.9596 - val_loss: 1.6158 - val_acc: 0.7443\n",
      "Epoch 76/100\n",
      "1480/1484 [============================>.] - ETA: 0s - loss: 0.4612 - acc: 0.9622Epoch 00075: val_acc did not improve\n",
      "1484/1484 [==============================] - 10s - loss: 0.4605 - acc: 0.9623 - val_loss: 1.6099 - val_acc: 0.7266\n",
      "Epoch 77/100\n",
      "1480/1484 [============================>.] - ETA: 0s - loss: 0.4406 - acc: 0.9703Epoch 00076: val_acc did not improve\n",
      "1484/1484 [==============================] - 10s - loss: 0.4407 - acc: 0.9704 - val_loss: 1.5908 - val_acc: 0.7418\n",
      "Epoch 78/100\n",
      "1480/1484 [============================>.] - ETA: 0s - loss: 0.4573 - acc: 0.9574Epoch 00077: val_acc did not improve\n",
      "1484/1484 [==============================] - 10s - loss: 0.4573 - acc: 0.9575 - val_loss: 1.5969 - val_acc: 0.7418\n",
      "Epoch 79/100\n",
      "1480/1484 [============================>.] - ETA: 0s - loss: 0.4377 - acc: 0.9628Epoch 00078: val_acc improved from 0.74430 to 0.74684, saving model to finetune_augmented_solution_best.h5\n",
      "1484/1484 [==============================] - 11s - loss: 0.4373 - acc: 0.9629 - val_loss: 1.5730 - val_acc: 0.7468\n",
      "Epoch 80/100\n",
      "1480/1484 [============================>.] - ETA: 0s - loss: 0.4414 - acc: 0.9642Epoch 00079: val_acc improved from 0.74684 to 0.74937, saving model to finetune_augmented_solution_best.h5\n",
      "1484/1484 [==============================] - 11s - loss: 0.4405 - acc: 0.9643 - val_loss: 1.5740 - val_acc: 0.7494\n",
      "Epoch 81/100\n",
      "1480/1484 [============================>.] - ETA: 0s - loss: 0.4376 - acc: 0.9649Epoch 00080: val_acc did not improve\n",
      "1484/1484 [==============================] - 10s - loss: 0.4375 - acc: 0.9650 - val_loss: 1.5649 - val_acc: 0.7468\n",
      "Epoch 82/100\n",
      "1480/1484 [============================>.] - ETA: 0s - loss: 0.4144 - acc: 0.9669Epoch 00081: val_acc did not improve\n",
      "1484/1484 [==============================] - 10s - loss: 0.4166 - acc: 0.9656 - val_loss: 1.5556 - val_acc: 0.7468\n",
      "Epoch 83/100\n",
      "1480/1484 [============================>.] - ETA: 0s - loss: 0.4073 - acc: 0.9628Epoch 00082: val_acc did not improve\n",
      "1484/1484 [==============================] - 10s - loss: 0.4077 - acc: 0.9629 - val_loss: 1.5440 - val_acc: 0.7418\n",
      "Epoch 84/100\n",
      "1480/1484 [============================>.] - ETA: 0s - loss: 0.3856 - acc: 0.9764Epoch 00083: val_acc did not improve\n",
      "1484/1484 [==============================] - 10s - loss: 0.3860 - acc: 0.9764 - val_loss: 1.5328 - val_acc: 0.7342\n",
      "Epoch 85/100\n",
      "1480/1484 [============================>.] - ETA: 0s - loss: 0.3884 - acc: 0.9649Epoch 00084: val_acc did not improve\n",
      "1484/1484 [==============================] - 10s - loss: 0.3885 - acc: 0.9650 - val_loss: 1.5381 - val_acc: 0.7418\n",
      "Epoch 86/100\n",
      "1480/1484 [============================>.] - ETA: 0s - loss: 0.3942 - acc: 0.9703Epoch 00085: val_acc did not improve\n",
      "1484/1484 [==============================] - 10s - loss: 0.3940 - acc: 0.9704 - val_loss: 1.5186 - val_acc: 0.7418\n",
      "Epoch 87/100\n",
      "1480/1484 [============================>.] - ETA: 0s - loss: 0.3596 - acc: 0.9730Epoch 00086: val_acc did not improve\n",
      "1484/1484 [==============================] - 10s - loss: 0.3596 - acc: 0.9730 - val_loss: 1.5422 - val_acc: 0.7367\n",
      "Epoch 88/100\n",
      "1480/1484 [============================>.] - ETA: 0s - loss: 0.3877 - acc: 0.9703Epoch 00087: val_acc did not improve\n"
     ]
    },
    {
     "name": "stdout",
     "output_type": "stream",
     "text": [
      "1484/1484 [==============================] - 10s - loss: 0.3882 - acc: 0.9697 - val_loss: 1.5097 - val_acc: 0.7392\n",
      "Epoch 89/100\n",
      "1480/1484 [============================>.] - ETA: 0s - loss: 0.3557 - acc: 0.9716Epoch 00088: val_acc did not improve\n",
      "1484/1484 [==============================] - 10s - loss: 0.3550 - acc: 0.9717 - val_loss: 1.5006 - val_acc: 0.7392\n",
      "Epoch 90/100\n",
      "1480/1484 [============================>.] - ETA: 0s - loss: 0.3453 - acc: 0.9750Epoch 00089: val_acc did not improve\n",
      "1484/1484 [==============================] - 11s - loss: 0.3452 - acc: 0.9751 - val_loss: 1.4904 - val_acc: 0.7494\n",
      "Epoch 91/100\n",
      "1480/1484 [============================>.] - ETA: 0s - loss: 0.3341 - acc: 0.9757Epoch 00090: val_acc did not improve\n",
      "1484/1484 [==============================] - 10s - loss: 0.3339 - acc: 0.9757 - val_loss: 1.4899 - val_acc: 0.7494\n",
      "Epoch 00090: early stopping\n"
     ]
    }
   ],
   "source": [
    "train_X = np.load(open('data/augmented_bottleneck_features_train.npy', 'rb'))\n",
    "train_y = to_categorical(train_gen.classes, num_classes=nb_classes)\n",
    "\n",
    "model = generate_model(train_X)\n",
    "model.compile(loss='categorical_crossentropy', optimizer=SGD(lr=1e-4, momentum=0.9), metrics=['accuracy'])\n",
    "\n",
    "# Model saving callback\n",
    "checkpointer = ModelCheckpoint(filepath='finetune_augmented_solution_best.h5', monitor='val_acc', verbose=1, save_best_only=True)\n",
    "\n",
    "# Early stopping\n",
    "early_stopping = EarlyStopping(monitor='val_acc', verbose=1, patience=10)\n",
    "\n",
    "history = model.fit(\n",
    "    train_X,\n",
    "    train_y,\n",
    "    epochs=epochs,\n",
    "    callbacks=[checkpointer, early_stopping],\n",
    "    batch_size=10,\n",
    "    validation_data=(valid_X, valid_y))"
   ]
  },
  {
   "cell_type": "code",
   "execution_count": 20,
   "metadata": {},
   "outputs": [
    {
     "name": "stdout",
     "output_type": "stream",
     "text": [
      "149/149 [==============================] - 0s\n"
     ]
    },
    {
     "data": {
      "text/plain": [
       "[1.5792747735977173, 0.76510071754455566]"
      ]
     },
     "execution_count": 20,
     "metadata": {},
     "output_type": "execute_result"
    }
   ],
   "source": [
    "model.load_weights('finetune_augmented_solution_best.h5')\n",
    "model.evaluate(test_X, test_y, 149)"
   ]
  },
  {
   "cell_type": "code",
   "execution_count": 21,
   "metadata": {},
   "outputs": [
    {
     "data": {
      "image/png": "[encoded data removed]",
      "text/plain": [
       "<matplotlib.figure.Figure at 0x1c43c9859b0>"
      ]
     },
     "metadata": {},
     "output_type": "display_data"
    }
   ],
   "source": [
    "fig, ax = plt.subplots()\n",
    "plt.plot(history.history['acc'])\n",
    "plt.plot(history.history['val_acc'])\n",
    "plt.title('Model accuracy')\n",
    "plt.ylabel('Accuracy')\n",
    "plt.xlabel('Epoch')\n",
    "plt.legend(['Train', 'Valid'], loc='upper left')\n",
    "plt.show()"
   ]
  },
  {
   "cell_type": "code",
   "execution_count": null,
   "metadata": {
    "collapsed": true
   },
   "outputs": [],
   "source": []
  }
 ],
 "metadata": {
  "kernelspec": {
   "display_name": "dog-project",
   "language": "python",
   "name": "dog-project"
  },
  "language_info": {
   "codemirror_mode": {
    "name": "ipython",
    "version": 3
   },
   "file_extension": ".py",
   "mimetype": "text/x-python",
   "name": "python",
   "nbconvert_exporter": "python",
   "pygments_lexer": "ipython3",
   "version": "3.5.3"
  }
 },
 "nbformat": 4,
 "nbformat_minor": 2
}
